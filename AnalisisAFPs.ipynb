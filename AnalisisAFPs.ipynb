{
  "nbformat": 4,
  "nbformat_minor": 0,
  "metadata": {
    "colab": {
      "name": "Untitled2.ipynb",
      "provenance": [],
      "toc_visible": true,
      "authorship_tag": "ABX9TyN6I0pv1DIpIwLF+/gYfIln",
      "include_colab_link": true
    },
    "kernelspec": {
      "name": "python3",
      "display_name": "Python 3"
    }
  },
  "cells": [
    {
      "cell_type": "markdown",
      "metadata": {
        "id": "view-in-github",
        "colab_type": "text"
      },
      "source": [
        "<a href=\"https://colab.research.google.com/github/Foco22/AFPs/blob/master/AnalisisAFPs.ipynb\" target=\"_parent\"><img src=\"https://colab.research.google.com/assets/colab-badge.svg\" alt=\"Open In Colab\"/></a>"
      ]
    },
    {
      "cell_type": "code",
      "metadata": {
        "id": "OGmpQ3fDskvN",
        "outputId": "3d4180bc-37d0-45fa-ca30-19da62bf976d",
        "colab": {
          "base_uri": "https://localhost:8080/",
          "height": 52
        }
      },
      "source": [
        "!pip install bs4"
      ],
      "execution_count": 2,
      "outputs": [
        {
          "output_type": "stream",
          "text": [
            "Requirement already satisfied: bs4 in /usr/local/lib/python3.6/dist-packages (0.0.1)\n",
            "Requirement already satisfied: beautifulsoup4 in /usr/local/lib/python3.6/dist-packages (from bs4) (4.6.3)\n"
          ],
          "name": "stdout"
        }
      ]
    },
    {
      "cell_type": "code",
      "metadata": {
        "id": "FYTQf0MAssrI",
        "outputId": "a55d2a6c-18a9-4cbf-d276-35de7d6b8ac0",
        "colab": {
          "base_uri": "https://localhost:8080/",
          "height": 105
        }
      },
      "source": [
        "!pip install requests"
      ],
      "execution_count": 3,
      "outputs": [
        {
          "output_type": "stream",
          "text": [
            "Requirement already satisfied: requests in /usr/local/lib/python3.6/dist-packages (2.23.0)\n",
            "Requirement already satisfied: urllib3!=1.25.0,!=1.25.1,<1.26,>=1.21.1 in /usr/local/lib/python3.6/dist-packages (from requests) (1.24.3)\n",
            "Requirement already satisfied: chardet<4,>=3.0.2 in /usr/local/lib/python3.6/dist-packages (from requests) (3.0.4)\n",
            "Requirement already satisfied: certifi>=2017.4.17 in /usr/local/lib/python3.6/dist-packages (from requests) (2020.6.20)\n",
            "Requirement already satisfied: idna<3,>=2.5 in /usr/local/lib/python3.6/dist-packages (from requests) (2.10)\n"
          ],
          "name": "stdout"
        }
      ]
    },
    {
      "cell_type": "code",
      "metadata": {
        "id": "EQJALIUu1mia",
        "outputId": "69d994e9-0659-4ab8-9b2f-fb3f864717a9",
        "colab": {
          "base_uri": "https://localhost:8080/",
          "height": 34
        }
      },
      "source": [
        "!pip install beautifulsoup4"
      ],
      "execution_count": 4,
      "outputs": [
        {
          "output_type": "stream",
          "text": [
            "Requirement already satisfied: beautifulsoup4 in /usr/local/lib/python3.6/dist-packages (4.6.3)\n"
          ],
          "name": "stdout"
        }
      ]
    },
    {
      "cell_type": "code",
      "metadata": {
        "id": "WYsgEoo3s06I",
        "outputId": "0ab9003b-a127-4719-9f96-dceeeab41a1d",
        "colab": {
          "base_uri": "https://localhost:8080/",
          "height": 1000
        }
      },
      "source": [
        "!pip install selenium\n",
        "!apt-get update \n",
        "!apt install chromium-chromedriver"
      ],
      "execution_count": 5,
      "outputs": [
        {
          "output_type": "stream",
          "text": [
            "Collecting selenium\n",
            "\u001b[?25l  Downloading https://files.pythonhosted.org/packages/80/d6/4294f0b4bce4de0abf13e17190289f9d0613b0a44e5dd6a7f5ca98459853/selenium-3.141.0-py2.py3-none-any.whl (904kB)\n",
            "\r\u001b[K     |▍                               | 10kB 13.6MB/s eta 0:00:01\r\u001b[K     |▊                               | 20kB 3.5MB/s eta 0:00:01\r\u001b[K     |█                               | 30kB 4.9MB/s eta 0:00:01\r\u001b[K     |█▌                              | 40kB 5.7MB/s eta 0:00:01\r\u001b[K     |█▉                              | 51kB 4.4MB/s eta 0:00:01\r\u001b[K     |██▏                             | 61kB 4.9MB/s eta 0:00:01\r\u001b[K     |██▌                             | 71kB 5.2MB/s eta 0:00:01\r\u001b[K     |███                             | 81kB 5.8MB/s eta 0:00:01\r\u001b[K     |███▎                            | 92kB 6.1MB/s eta 0:00:01\r\u001b[K     |███▋                            | 102kB 6.0MB/s eta 0:00:01\r\u001b[K     |████                            | 112kB 6.0MB/s eta 0:00:01\r\u001b[K     |████▍                           | 122kB 6.0MB/s eta 0:00:01\r\u001b[K     |████▊                           | 133kB 6.0MB/s eta 0:00:01\r\u001b[K     |█████                           | 143kB 6.0MB/s eta 0:00:01\r\u001b[K     |█████▍                          | 153kB 6.0MB/s eta 0:00:01\r\u001b[K     |█████▉                          | 163kB 6.0MB/s eta 0:00:01\r\u001b[K     |██████▏                         | 174kB 6.0MB/s eta 0:00:01\r\u001b[K     |██████▌                         | 184kB 6.0MB/s eta 0:00:01\r\u001b[K     |██████▉                         | 194kB 6.0MB/s eta 0:00:01\r\u001b[K     |███████▎                        | 204kB 6.0MB/s eta 0:00:01\r\u001b[K     |███████▋                        | 215kB 6.0MB/s eta 0:00:01\r\u001b[K     |████████                        | 225kB 6.0MB/s eta 0:00:01\r\u001b[K     |████████▎                       | 235kB 6.0MB/s eta 0:00:01\r\u001b[K     |████████▊                       | 245kB 6.0MB/s eta 0:00:01\r\u001b[K     |█████████                       | 256kB 6.0MB/s eta 0:00:01\r\u001b[K     |█████████▍                      | 266kB 6.0MB/s eta 0:00:01\r\u001b[K     |█████████▉                      | 276kB 6.0MB/s eta 0:00:01\r\u001b[K     |██████████▏                     | 286kB 6.0MB/s eta 0:00:01\r\u001b[K     |██████████▌                     | 296kB 6.0MB/s eta 0:00:01\r\u001b[K     |██████████▉                     | 307kB 6.0MB/s eta 0:00:01\r\u001b[K     |███████████▎                    | 317kB 6.0MB/s eta 0:00:01\r\u001b[K     |███████████▋                    | 327kB 6.0MB/s eta 0:00:01\r\u001b[K     |████████████                    | 337kB 6.0MB/s eta 0:00:01\r\u001b[K     |████████████▎                   | 348kB 6.0MB/s eta 0:00:01\r\u001b[K     |████████████▊                   | 358kB 6.0MB/s eta 0:00:01\r\u001b[K     |█████████████                   | 368kB 6.0MB/s eta 0:00:01\r\u001b[K     |█████████████▍                  | 378kB 6.0MB/s eta 0:00:01\r\u001b[K     |█████████████▊                  | 389kB 6.0MB/s eta 0:00:01\r\u001b[K     |██████████████▏                 | 399kB 6.0MB/s eta 0:00:01\r\u001b[K     |██████████████▌                 | 409kB 6.0MB/s eta 0:00:01\r\u001b[K     |██████████████▉                 | 419kB 6.0MB/s eta 0:00:01\r\u001b[K     |███████████████▏                | 430kB 6.0MB/s eta 0:00:01\r\u001b[K     |███████████████▋                | 440kB 6.0MB/s eta 0:00:01\r\u001b[K     |████████████████                | 450kB 6.0MB/s eta 0:00:01\r\u001b[K     |████████████████▎               | 460kB 6.0MB/s eta 0:00:01\r\u001b[K     |████████████████▋               | 471kB 6.0MB/s eta 0:00:01\r\u001b[K     |█████████████████               | 481kB 6.0MB/s eta 0:00:01\r\u001b[K     |█████████████████▍              | 491kB 6.0MB/s eta 0:00:01\r\u001b[K     |█████████████████▊              | 501kB 6.0MB/s eta 0:00:01\r\u001b[K     |██████████████████▏             | 512kB 6.0MB/s eta 0:00:01\r\u001b[K     |██████████████████▌             | 522kB 6.0MB/s eta 0:00:01\r\u001b[K     |██████████████████▉             | 532kB 6.0MB/s eta 0:00:01\r\u001b[K     |███████████████████▏            | 542kB 6.0MB/s eta 0:00:01\r\u001b[K     |███████████████████▋            | 552kB 6.0MB/s eta 0:00:01\r\u001b[K     |████████████████████            | 563kB 6.0MB/s eta 0:00:01\r\u001b[K     |████████████████████▎           | 573kB 6.0MB/s eta 0:00:01\r\u001b[K     |████████████████████▋           | 583kB 6.0MB/s eta 0:00:01\r\u001b[K     |█████████████████████           | 593kB 6.0MB/s eta 0:00:01\r\u001b[K     |█████████████████████▍          | 604kB 6.0MB/s eta 0:00:01\r\u001b[K     |█████████████████████▊          | 614kB 6.0MB/s eta 0:00:01\r\u001b[K     |██████████████████████          | 624kB 6.0MB/s eta 0:00:01\r\u001b[K     |██████████████████████▌         | 634kB 6.0MB/s eta 0:00:01\r\u001b[K     |██████████████████████▉         | 645kB 6.0MB/s eta 0:00:01\r\u001b[K     |███████████████████████▏        | 655kB 6.0MB/s eta 0:00:01\r\u001b[K     |███████████████████████▌        | 665kB 6.0MB/s eta 0:00:01\r\u001b[K     |████████████████████████        | 675kB 6.0MB/s eta 0:00:01\r\u001b[K     |████████████████████████▎       | 686kB 6.0MB/s eta 0:00:01\r\u001b[K     |████████████████████████▋       | 696kB 6.0MB/s eta 0:00:01\r\u001b[K     |█████████████████████████       | 706kB 6.0MB/s eta 0:00:01\r\u001b[K     |█████████████████████████▍      | 716kB 6.0MB/s eta 0:00:01\r\u001b[K     |█████████████████████████▊      | 727kB 6.0MB/s eta 0:00:01\r\u001b[K     |██████████████████████████      | 737kB 6.0MB/s eta 0:00:01\r\u001b[K     |██████████████████████████▍     | 747kB 6.0MB/s eta 0:00:01\r\u001b[K     |██████████████████████████▉     | 757kB 6.0MB/s eta 0:00:01\r\u001b[K     |███████████████████████████▏    | 768kB 6.0MB/s eta 0:00:01\r\u001b[K     |███████████████████████████▌    | 778kB 6.0MB/s eta 0:00:01\r\u001b[K     |████████████████████████████    | 788kB 6.0MB/s eta 0:00:01\r\u001b[K     |████████████████████████████▎   | 798kB 6.0MB/s eta 0:00:01\r\u001b[K     |████████████████████████████▋   | 808kB 6.0MB/s eta 0:00:01\r\u001b[K     |█████████████████████████████   | 819kB 6.0MB/s eta 0:00:01\r\u001b[K     |█████████████████████████████▍  | 829kB 6.0MB/s eta 0:00:01\r\u001b[K     |█████████████████████████████▊  | 839kB 6.0MB/s eta 0:00:01\r\u001b[K     |██████████████████████████████  | 849kB 6.0MB/s eta 0:00:01\r\u001b[K     |██████████████████████████████▍ | 860kB 6.0MB/s eta 0:00:01\r\u001b[K     |██████████████████████████████▉ | 870kB 6.0MB/s eta 0:00:01\r\u001b[K     |███████████████████████████████▏| 880kB 6.0MB/s eta 0:00:01\r\u001b[K     |███████████████████████████████▌| 890kB 6.0MB/s eta 0:00:01\r\u001b[K     |███████████████████████████████▉| 901kB 6.0MB/s eta 0:00:01\r\u001b[K     |████████████████████████████████| 911kB 6.0MB/s \n",
            "\u001b[?25hRequirement already satisfied: urllib3 in /usr/local/lib/python3.6/dist-packages (from selenium) (1.24.3)\n",
            "Installing collected packages: selenium\n",
            "Successfully installed selenium-3.141.0\n",
            "Get:1 https://cloud.r-project.org/bin/linux/ubuntu bionic-cran35/ InRelease [3,626 B]\n",
            "Ign:2 https://developer.download.nvidia.com/compute/cuda/repos/ubuntu1804/x86_64  InRelease\n",
            "Ign:3 https://developer.download.nvidia.com/compute/machine-learning/repos/ubuntu1804/x86_64  InRelease\n",
            "Get:4 https://developer.download.nvidia.com/compute/cuda/repos/ubuntu1804/x86_64  Release [697 B]\n",
            "Get:5 https://developer.download.nvidia.com/compute/machine-learning/repos/ubuntu1804/x86_64  Release [564 B]\n",
            "Get:6 https://developer.download.nvidia.com/compute/cuda/repos/ubuntu1804/x86_64  Release.gpg [836 B]\n",
            "Get:7 https://developer.download.nvidia.com/compute/machine-learning/repos/ubuntu1804/x86_64  Release.gpg [833 B]\n",
            "Hit:8 http://archive.ubuntu.com/ubuntu bionic InRelease\n",
            "Hit:9 http://ppa.launchpad.net/graphics-drivers/ppa/ubuntu bionic InRelease\n",
            "Get:10 http://archive.ubuntu.com/ubuntu bionic-updates InRelease [88.7 kB]\n",
            "Get:11 http://security.ubuntu.com/ubuntu bionic-security InRelease [88.7 kB]\n",
            "Get:12 http://ppa.launchpad.net/marutter/c2d4u3.5/ubuntu bionic InRelease [15.4 kB]\n",
            "Ign:13 https://developer.download.nvidia.com/compute/cuda/repos/ubuntu1804/x86_64  Packages\n",
            "Get:13 https://developer.download.nvidia.com/compute/cuda/repos/ubuntu1804/x86_64  Packages [306 kB]\n",
            "Get:14 https://developer.download.nvidia.com/compute/machine-learning/repos/ubuntu1804/x86_64  Packages [47.9 kB]\n",
            "Get:15 http://archive.ubuntu.com/ubuntu bionic-backports InRelease [74.6 kB]\n",
            "Get:16 http://ppa.launchpad.net/marutter/c2d4u3.5/ubuntu bionic/main Sources [1,879 kB]\n",
            "Get:17 http://archive.ubuntu.com/ubuntu bionic-updates/main amd64 Packages [1,406 kB]\n",
            "Get:18 http://security.ubuntu.com/ubuntu bionic-security/restricted amd64 Packages [126 kB]\n",
            "Get:19 http://security.ubuntu.com/ubuntu bionic-security/main amd64 Packages [1,115 kB]\n",
            "Get:20 http://archive.ubuntu.com/ubuntu bionic-updates/restricted amd64 Packages [146 kB]\n",
            "Get:21 http://archive.ubuntu.com/ubuntu bionic-updates/multiverse amd64 Packages [33.9 kB]\n",
            "Get:22 http://archive.ubuntu.com/ubuntu bionic-updates/universe amd64 Packages [1,435 kB]\n",
            "Get:23 http://security.ubuntu.com/ubuntu bionic-security/universe amd64 Packages [908 kB]\n",
            "Get:24 http://ppa.launchpad.net/marutter/c2d4u3.5/ubuntu bionic/main amd64 Packages [907 kB]\n",
            "Fetched 8,583 kB in 4s (2,116 kB/s)\n",
            "Reading package lists... Done\n",
            "Reading package lists... Done\n",
            "Building dependency tree       \n",
            "Reading state information... Done\n",
            "The following additional packages will be installed:\n",
            "  chromium-browser chromium-browser-l10n chromium-codecs-ffmpeg-extra\n",
            "Suggested packages:\n",
            "  webaccounts-chromium-extension unity-chromium-extension adobe-flashplugin\n",
            "The following NEW packages will be installed:\n",
            "  chromium-browser chromium-browser-l10n chromium-chromedriver\n",
            "  chromium-codecs-ffmpeg-extra\n",
            "0 upgraded, 4 newly installed, 0 to remove and 53 not upgraded.\n",
            "Need to get 79.2 MB of archives.\n",
            "After this operation, 268 MB of additional disk space will be used.\n",
            "Get:1 http://archive.ubuntu.com/ubuntu bionic-updates/universe amd64 chromium-codecs-ffmpeg-extra amd64 85.0.4183.83-0ubuntu0.18.04.2 [1,118 kB]\n",
            "Get:2 http://archive.ubuntu.com/ubuntu bionic-updates/universe amd64 chromium-browser amd64 85.0.4183.83-0ubuntu0.18.04.2 [70.3 MB]\n",
            "Get:3 http://archive.ubuntu.com/ubuntu bionic-updates/universe amd64 chromium-browser-l10n all 85.0.4183.83-0ubuntu0.18.04.2 [3,431 kB]\n",
            "Get:4 http://archive.ubuntu.com/ubuntu bionic-updates/universe amd64 chromium-chromedriver amd64 85.0.4183.83-0ubuntu0.18.04.2 [4,412 kB]\n",
            "Fetched 79.2 MB in 5s (15.1 MB/s)\n",
            "Selecting previously unselected package chromium-codecs-ffmpeg-extra.\n",
            "(Reading database ... 144676 files and directories currently installed.)\n",
            "Preparing to unpack .../chromium-codecs-ffmpeg-extra_85.0.4183.83-0ubuntu0.18.04.2_amd64.deb ...\n",
            "Unpacking chromium-codecs-ffmpeg-extra (85.0.4183.83-0ubuntu0.18.04.2) ...\n",
            "Selecting previously unselected package chromium-browser.\n",
            "Preparing to unpack .../chromium-browser_85.0.4183.83-0ubuntu0.18.04.2_amd64.deb ...\n",
            "Unpacking chromium-browser (85.0.4183.83-0ubuntu0.18.04.2) ...\n",
            "Selecting previously unselected package chromium-browser-l10n.\n",
            "Preparing to unpack .../chromium-browser-l10n_85.0.4183.83-0ubuntu0.18.04.2_all.deb ...\n",
            "Unpacking chromium-browser-l10n (85.0.4183.83-0ubuntu0.18.04.2) ...\n",
            "Selecting previously unselected package chromium-chromedriver.\n",
            "Preparing to unpack .../chromium-chromedriver_85.0.4183.83-0ubuntu0.18.04.2_amd64.deb ...\n",
            "Unpacking chromium-chromedriver (85.0.4183.83-0ubuntu0.18.04.2) ...\n",
            "Setting up chromium-codecs-ffmpeg-extra (85.0.4183.83-0ubuntu0.18.04.2) ...\n",
            "Setting up chromium-browser (85.0.4183.83-0ubuntu0.18.04.2) ...\n",
            "update-alternatives: using /usr/bin/chromium-browser to provide /usr/bin/x-www-browser (x-www-browser) in auto mode\n",
            "update-alternatives: using /usr/bin/chromium-browser to provide /usr/bin/gnome-www-browser (gnome-www-browser) in auto mode\n",
            "Setting up chromium-chromedriver (85.0.4183.83-0ubuntu0.18.04.2) ...\n",
            "Setting up chromium-browser-l10n (85.0.4183.83-0ubuntu0.18.04.2) ...\n",
            "Processing triggers for hicolor-icon-theme (0.17-2) ...\n",
            "Processing triggers for mime-support (3.60ubuntu1) ...\n",
            "Processing triggers for man-db (2.8.3-2ubuntu0.1) ...\n"
          ],
          "name": "stdout"
        }
      ]
    },
    {
      "cell_type": "code",
      "metadata": {
        "id": "agOysu8ysxfb"
      },
      "source": [
        "from bs4 import BeautifulSoup\n",
        "import urllib.request\n",
        "import requests\n",
        "import pandas as pd\n",
        "from selenium import webdriver\n",
        "from selenium.webdriver.support.select import Select\n",
        "from selenium.webdriver.common.by import By\n",
        "from selenium.webdriver.support.ui import WebDriverWait\n",
        "from selenium.webdriver.support import expected_conditions as EC\n",
        "import seaborn as sns\n",
        "import matplotlib.pyplot as plt"
      ],
      "execution_count": 115,
      "outputs": []
    },
    {
      "cell_type": "markdown",
      "metadata": {
        "id": "B5q1rpIes-7x"
      },
      "source": [
        "# **Rentabilidad Mensuales de las AFPs**"
      ]
    },
    {
      "cell_type": "code",
      "metadata": {
        "id": "4sIJfAbV30MO",
        "outputId": "a232ff6a-3823-4738-9518-befa461fe06a",
        "colab": {
          "base_uri": "https://localhost:8080/",
          "height": 141
        }
      },
      "source": [
        "!pip install selenium-wire"
      ],
      "execution_count": 7,
      "outputs": [
        {
          "output_type": "stream",
          "text": [
            "Collecting selenium-wire\n",
            "\u001b[?25l  Downloading https://files.pythonhosted.org/packages/93/1a/04db970c0d7ffcd16f58d3b83e7f2a5cb3d63823fdcb683486f95b1fc5fb/selenium_wire-2.1.1-py3-none-any.whl (833kB)\n",
            "\r\u001b[K     |▍                               | 10kB 16.8MB/s eta 0:00:01\r\u001b[K     |▉                               | 20kB 2.8MB/s eta 0:00:01\r\u001b[K     |█▏                              | 30kB 3.5MB/s eta 0:00:01\r\u001b[K     |█▋                              | 40kB 3.9MB/s eta 0:00:01\r\u001b[K     |██                              | 51kB 3.3MB/s eta 0:00:01\r\u001b[K     |██▍                             | 61kB 3.5MB/s eta 0:00:01\r\u001b[K     |██▊                             | 71kB 3.8MB/s eta 0:00:01\r\u001b[K     |███▏                            | 81kB 4.2MB/s eta 0:00:01\r\u001b[K     |███▌                            | 92kB 4.5MB/s eta 0:00:01\r\u001b[K     |████                            | 102kB 4.4MB/s eta 0:00:01\r\u001b[K     |████▎                           | 112kB 4.4MB/s eta 0:00:01\r\u001b[K     |████▊                           | 122kB 4.4MB/s eta 0:00:01\r\u001b[K     |█████                           | 133kB 4.4MB/s eta 0:00:01\r\u001b[K     |█████▌                          | 143kB 4.4MB/s eta 0:00:01\r\u001b[K     |██████                          | 153kB 4.4MB/s eta 0:00:01\r\u001b[K     |██████▎                         | 163kB 4.4MB/s eta 0:00:01\r\u001b[K     |██████▊                         | 174kB 4.4MB/s eta 0:00:01\r\u001b[K     |███████                         | 184kB 4.4MB/s eta 0:00:01\r\u001b[K     |███████▌                        | 194kB 4.4MB/s eta 0:00:01\r\u001b[K     |███████▉                        | 204kB 4.4MB/s eta 0:00:01\r\u001b[K     |████████▎                       | 215kB 4.4MB/s eta 0:00:01\r\u001b[K     |████████▋                       | 225kB 4.4MB/s eta 0:00:01\r\u001b[K     |█████████                       | 235kB 4.4MB/s eta 0:00:01\r\u001b[K     |█████████▍                      | 245kB 4.4MB/s eta 0:00:01\r\u001b[K     |█████████▉                      | 256kB 4.4MB/s eta 0:00:01\r\u001b[K     |██████████▏                     | 266kB 4.4MB/s eta 0:00:01\r\u001b[K     |██████████▋                     | 276kB 4.4MB/s eta 0:00:01\r\u001b[K     |███████████                     | 286kB 4.4MB/s eta 0:00:01\r\u001b[K     |███████████▍                    | 296kB 4.4MB/s eta 0:00:01\r\u001b[K     |███████████▉                    | 307kB 4.4MB/s eta 0:00:01\r\u001b[K     |████████████▏                   | 317kB 4.4MB/s eta 0:00:01\r\u001b[K     |████████████▋                   | 327kB 4.4MB/s eta 0:00:01\r\u001b[K     |█████████████                   | 337kB 4.4MB/s eta 0:00:01\r\u001b[K     |█████████████▍                  | 348kB 4.4MB/s eta 0:00:01\r\u001b[K     |█████████████▊                  | 358kB 4.4MB/s eta 0:00:01\r\u001b[K     |██████████████▏                 | 368kB 4.4MB/s eta 0:00:01\r\u001b[K     |██████████████▌                 | 378kB 4.4MB/s eta 0:00:01\r\u001b[K     |███████████████                 | 389kB 4.4MB/s eta 0:00:01\r\u001b[K     |███████████████▎                | 399kB 4.4MB/s eta 0:00:01\r\u001b[K     |███████████████▊                | 409kB 4.4MB/s eta 0:00:01\r\u001b[K     |████████████████▏               | 419kB 4.4MB/s eta 0:00:01\r\u001b[K     |████████████████▌               | 430kB 4.4MB/s eta 0:00:01\r\u001b[K     |█████████████████               | 440kB 4.4MB/s eta 0:00:01\r\u001b[K     |█████████████████▎              | 450kB 4.4MB/s eta 0:00:01\r\u001b[K     |█████████████████▊              | 460kB 4.4MB/s eta 0:00:01\r\u001b[K     |██████████████████              | 471kB 4.4MB/s eta 0:00:01\r\u001b[K     |██████████████████▌             | 481kB 4.4MB/s eta 0:00:01\r\u001b[K     |██████████████████▉             | 491kB 4.4MB/s eta 0:00:01\r\u001b[K     |███████████████████▎            | 501kB 4.4MB/s eta 0:00:01\r\u001b[K     |███████████████████▋            | 512kB 4.4MB/s eta 0:00:01\r\u001b[K     |████████████████████            | 522kB 4.4MB/s eta 0:00:01\r\u001b[K     |████████████████████▍           | 532kB 4.4MB/s eta 0:00:01\r\u001b[K     |████████████████████▉           | 542kB 4.4MB/s eta 0:00:01\r\u001b[K     |█████████████████████▎          | 552kB 4.4MB/s eta 0:00:01\r\u001b[K     |█████████████████████▋          | 563kB 4.4MB/s eta 0:00:01\r\u001b[K     |██████████████████████          | 573kB 4.4MB/s eta 0:00:01\r\u001b[K     |██████████████████████▍         | 583kB 4.4MB/s eta 0:00:01\r\u001b[K     |██████████████████████▉         | 593kB 4.4MB/s eta 0:00:01\r\u001b[K     |███████████████████████▏        | 604kB 4.4MB/s eta 0:00:01\r\u001b[K     |███████████████████████▋        | 614kB 4.4MB/s eta 0:00:01\r\u001b[K     |████████████████████████        | 624kB 4.4MB/s eta 0:00:01\r\u001b[K     |████████████████████████▍       | 634kB 4.4MB/s eta 0:00:01\r\u001b[K     |████████████████████████▊       | 645kB 4.4MB/s eta 0:00:01\r\u001b[K     |█████████████████████████▏      | 655kB 4.4MB/s eta 0:00:01\r\u001b[K     |█████████████████████████▌      | 665kB 4.4MB/s eta 0:00:01\r\u001b[K     |██████████████████████████      | 675kB 4.4MB/s eta 0:00:01\r\u001b[K     |██████████████████████████▎     | 686kB 4.4MB/s eta 0:00:01\r\u001b[K     |██████████████████████████▊     | 696kB 4.4MB/s eta 0:00:01\r\u001b[K     |███████████████████████████▏    | 706kB 4.4MB/s eta 0:00:01\r\u001b[K     |███████████████████████████▌    | 716kB 4.4MB/s eta 0:00:01\r\u001b[K     |████████████████████████████    | 727kB 4.4MB/s eta 0:00:01\r\u001b[K     |████████████████████████████▎   | 737kB 4.4MB/s eta 0:00:01\r\u001b[K     |████████████████████████████▊   | 747kB 4.4MB/s eta 0:00:01\r\u001b[K     |█████████████████████████████   | 757kB 4.4MB/s eta 0:00:01\r\u001b[K     |█████████████████████████████▌  | 768kB 4.4MB/s eta 0:00:01\r\u001b[K     |█████████████████████████████▉  | 778kB 4.4MB/s eta 0:00:01\r\u001b[K     |██████████████████████████████▎ | 788kB 4.4MB/s eta 0:00:01\r\u001b[K     |██████████████████████████████▋ | 798kB 4.4MB/s eta 0:00:01\r\u001b[K     |███████████████████████████████ | 808kB 4.4MB/s eta 0:00:01\r\u001b[K     |███████████████████████████████▍| 819kB 4.4MB/s eta 0:00:01\r\u001b[K     |███████████████████████████████▉| 829kB 4.4MB/s eta 0:00:01\r\u001b[K     |████████████████████████████████| 839kB 4.4MB/s \n",
            "\u001b[?25hRequirement already satisfied: selenium>=3.4.0 in /usr/local/lib/python3.6/dist-packages (from selenium-wire) (3.141.0)\n",
            "Requirement already satisfied: urllib3 in /usr/local/lib/python3.6/dist-packages (from selenium>=3.4.0->selenium-wire) (1.24.3)\n",
            "Installing collected packages: selenium-wire\n",
            "Successfully installed selenium-wire-2.1.1\n"
          ],
          "name": "stdout"
        }
      ]
    },
    {
      "cell_type": "code",
      "metadata": {
        "id": "a7MeZZUF6HMl",
        "outputId": "e119e39a-1fff-4434-db20-efe40846d732",
        "colab": {
          "base_uri": "https://localhost:8080/",
          "height": 70
        }
      },
      "source": [
        "! pip3 install  pyvirtualdisplay selenium webdriver_manager  > /dev/null\n",
        "! apt install firefox  xvfb > /dev/null"
      ],
      "execution_count": 8,
      "outputs": [
        {
          "output_type": "stream",
          "text": [
            "\n",
            "WARNING: apt does not have a stable CLI interface. Use with caution in scripts.\n",
            "\n"
          ],
          "name": "stdout"
        }
      ]
    },
    {
      "cell_type": "code",
      "metadata": {
        "id": "vxAP8ld_9Xn3",
        "outputId": "c7527adf-b3df-4620-b53b-854747d795b7",
        "colab": {
          "base_uri": "https://localhost:8080/",
          "height": 87
        }
      },
      "source": [
        "import bs4 as bs\n",
        "from selenium import webdriver\n",
        "from selenium.webdriver.common.by import By\n",
        "from selenium.webdriver.support.wait import WebDriverWait\n",
        "from selenium.webdriver.support import expected_conditions as EC\n",
        "\n",
        "\n",
        "chrome_options = webdriver.ChromeOptions()\n",
        "chrome_options.add_argument('--headless')\n",
        "chrome_options.add_argument('--no-sandbox')\n",
        "chrome_options.add_argument('--disable-dev-shm-usage')\n",
        "wd = webdriver.Chrome('chromedriver',chrome_options=chrome_options)\n",
        "driver =webdriver.Chrome('chromedriver',chrome_options=chrome_options)\n",
        "\n",
        "\n",
        "driver.get('https://www.spensiones.cl/apps/rentabilidad/getRentabilidad.php?tiprent=FP&template=0')\n",
        "\n",
        "wait = WebDriverWait(driver, 10)\n",
        "\n",
        "html = driver.execute_script('return document.documentElement.outerHTML')\n",
        "soup = bs.BeautifulSoup(html, 'html.parser')"
      ],
      "execution_count": 50,
      "outputs": [
        {
          "output_type": "stream",
          "text": [
            "/usr/local/lib/python3.6/dist-packages/ipykernel_launcher.py:12: DeprecationWarning: use options instead of chrome_options\n",
            "  if sys.path[0] == '':\n",
            "/usr/local/lib/python3.6/dist-packages/ipykernel_launcher.py:13: DeprecationWarning: use options instead of chrome_options\n",
            "  del sys.path[0]\n"
          ],
          "name": "stderr"
        }
      ]
    },
    {
      "cell_type": "code",
      "metadata": {
        "id": "3pWC7da5toHU"
      },
      "source": [
        "def cambio_url(ano,mes):\n",
        "    \n",
        "    s2 = Select(driver.find_element_by_name('aaaa'))\n",
        "    s2.select_by_value(ano)\n",
        "    s2 = Select(driver.find_element_by_name('mm'))\n",
        "    s2.select_by_value(mes)\n",
        "    s3 = driver.find_element_by_name('btn')\n",
        "    s3.click()\n",
        "\n",
        "    #soup = BeautifulSoup(driver.page_source)\n",
        "    #soup = bs4.BeautifulSoup(web_page_text, \"lxml\")\n",
        "    \n",
        "    html = driver.execute_script('return document.documentElement.outerHTML')\n",
        "    soup = bs.BeautifulSoup(html, 'html.parser')\n",
        "    #soup = bs(driver.content)\n",
        "\n",
        "    tabla = soup.find_all('td',{'align':'right'})\n",
        "    \n",
        "    return tabla"
      ],
      "execution_count": 51,
      "outputs": []
    },
    {
      "cell_type": "code",
      "metadata": {
        "id": "rYVpUM_ztzBK"
      },
      "source": [
        "df = pd.DataFrame(columns =['Año','Periodo','AFP','Fondo','Rentabilidad Mensual'])\n",
        "FONDOS = ['FONDO A', 'FONDO B', 'FONDO C', 'FONDO D', 'FONDO E']\n",
        "AFPS = ['CAPITAL', 'CUPRUM', 'HABITAT', 'MODELO', 'PLANVITAL', 'PROVIDA','UNO','SISTEMA']\n",
        "\n",
        "def datos_2019_2020(df):\n",
        "\n",
        "    \n",
        "    años_lista = ['2019','2019','2019','2020','2020','2020','2020','2020','2020','2020','2020']\n",
        "    mes_lista =  ['10','11','12','01','02','03','04','05','06','07','08']\n",
        "    \n",
        "    for a, b in zip(años_lista,mes_lista):\n",
        "        \n",
        "        gdp_table = cambio_url(str(a),str(b))\n",
        "        valores = []\n",
        "        for idx, val in enumerate(gdp_table):\n",
        "                val = str(val)\n",
        "                start = '\"right\">'\n",
        "                end = '</td>'\n",
        "                val = val[val.find(start)+len(start):val.rfind(end)]\n",
        "                numero = ''\n",
        "                for i in list(val):\n",
        "                    if i not in  (',','%','-'):\n",
        "                        numero = numero + i\n",
        "                if numero != '\\xa0':\n",
        "                    if val[0] != '-':\n",
        "                        numero = int(numero)/100\n",
        "                    else:\n",
        "                        numero = int(numero)/100*-1\n",
        "                else:\n",
        "                        numero = 0 \n",
        "     \n",
        "                fondo_c = range(64,105)\n",
        "                fondo_e = range(136,176)\n",
        "                #print(idx,val)\n",
        "                if idx in fondo_c:\n",
        "                    if idx in (64, 69, 74, 79,84, 89, 94, 99,104):\n",
        "                        valores.append(numero)\n",
        "                elif idx in fondo_e:\n",
        "                    if idx in (136,141, 146, 151, 156, 161, 166, 171):\n",
        "                        valores.append(numero)\n",
        "                elif idx % 4 == 0:\n",
        "                        valores.append(numero)\n",
        "        contador = 0\n",
        "        for i in FONDOS:\n",
        "            for j in AFPS:\n",
        "                new_row = {'Año': a, 'Periodo':b, 'AFP':j, 'Fondo':i, 'Rentabilidad Mensual':valores[contador]}\n",
        "                df = df.append(new_row, ignore_index=True)\n",
        "                contador = 1 + contador\n",
        "    return df\n",
        "datos_2019_2020 = datos_2019_2020(df)"
      ],
      "execution_count": 15,
      "outputs": []
    },
    {
      "cell_type": "code",
      "metadata": {
        "id": "8V7cbaZHw4L2",
        "outputId": "b12c4993-2940-46d0-e243-75278327792a",
        "colab": {
          "base_uri": "https://localhost:8080/",
          "height": 197
        }
      },
      "source": [
        "datos_2019_2020.head()"
      ],
      "execution_count": 106,
      "outputs": [
        {
          "output_type": "execute_result",
          "data": {
            "text/html": [
              "<div>\n",
              "<style scoped>\n",
              "    .dataframe tbody tr th:only-of-type {\n",
              "        vertical-align: middle;\n",
              "    }\n",
              "\n",
              "    .dataframe tbody tr th {\n",
              "        vertical-align: top;\n",
              "    }\n",
              "\n",
              "    .dataframe thead th {\n",
              "        text-align: right;\n",
              "    }\n",
              "</style>\n",
              "<table border=\"1\" class=\"dataframe\">\n",
              "  <thead>\n",
              "    <tr style=\"text-align: right;\">\n",
              "      <th></th>\n",
              "      <th>Año</th>\n",
              "      <th>Periodo</th>\n",
              "      <th>AFP</th>\n",
              "      <th>Fondo</th>\n",
              "      <th>Rentabilidad Mensual</th>\n",
              "    </tr>\n",
              "  </thead>\n",
              "  <tbody>\n",
              "    <tr>\n",
              "      <th>0</th>\n",
              "      <td>2019</td>\n",
              "      <td>10</td>\n",
              "      <td>CAPITAL</td>\n",
              "      <td>FONDO A</td>\n",
              "      <td>1.30</td>\n",
              "    </tr>\n",
              "    <tr>\n",
              "      <th>1</th>\n",
              "      <td>2019</td>\n",
              "      <td>10</td>\n",
              "      <td>CUPRUM</td>\n",
              "      <td>FONDO A</td>\n",
              "      <td>1.32</td>\n",
              "    </tr>\n",
              "    <tr>\n",
              "      <th>2</th>\n",
              "      <td>2019</td>\n",
              "      <td>10</td>\n",
              "      <td>HABITAT</td>\n",
              "      <td>FONDO A</td>\n",
              "      <td>1.51</td>\n",
              "    </tr>\n",
              "    <tr>\n",
              "      <th>3</th>\n",
              "      <td>2019</td>\n",
              "      <td>10</td>\n",
              "      <td>MODELO</td>\n",
              "      <td>FONDO A</td>\n",
              "      <td>1.44</td>\n",
              "    </tr>\n",
              "    <tr>\n",
              "      <th>4</th>\n",
              "      <td>2019</td>\n",
              "      <td>10</td>\n",
              "      <td>PLANVITAL</td>\n",
              "      <td>FONDO A</td>\n",
              "      <td>1.34</td>\n",
              "    </tr>\n",
              "  </tbody>\n",
              "</table>\n",
              "</div>"
            ],
            "text/plain": [
              "    Año Periodo        AFP    Fondo  Rentabilidad Mensual\n",
              "0  2019      10    CAPITAL  FONDO A                  1.30\n",
              "1  2019      10     CUPRUM  FONDO A                  1.32\n",
              "2  2019      10    HABITAT  FONDO A                  1.51\n",
              "3  2019      10     MODELO  FONDO A                  1.44\n",
              "4  2019      10  PLANVITAL  FONDO A                  1.34"
            ]
          },
          "metadata": {
            "tags": []
          },
          "execution_count": 106
        }
      ]
    },
    {
      "cell_type": "code",
      "metadata": {
        "id": "apLd2MOLPOV9"
      },
      "source": [
        "import datetime\n",
        "import calendar\n",
        "\n",
        "from datetime import date\n",
        "\n",
        "def add_one_month(orig_date):\n",
        "    # advance year and month by one month\n",
        "    new_year = orig_date.year\n",
        "    new_month = orig_date.month + 1\n",
        "    # note: in datetime.date, months go from 1 to 12\n",
        "    if new_month > 12:\n",
        "        new_year += 1\n",
        "        new_month -= 12\n",
        "\n",
        "    last_day_of_month = calendar.monthrange(new_year, new_month)[1]\n",
        "    new_day = min(orig_date.day, last_day_of_month)\n",
        "\n",
        "    return orig_date.replace(year=new_year, month=new_month, day=new_day)\n",
        "\n",
        "fechas = []\n",
        "nueva_fecha = date(2010, 8, 1)\n",
        "\n",
        "for x in range(120):\n",
        "    nueva_fecha = add_one_month(nueva_fecha)\n",
        "    fechas.append(nueva_fecha)\n",
        "    \n",
        "fechas_df = pd.DataFrame(fechas, columns = ['Fecha'])\n",
        "\n",
        "fechas_df['Año'] = fechas_df['Fecha'].apply(lambda x : x.year)\n",
        "fechas_df['mes'] = fechas_df['Fecha'].apply(lambda x : x.month)\n",
        "año_lista = list(fechas_df['Año'])\n",
        "mes_lista = list(fechas_df['mes'])\n",
        "\n",
        "def mes():\n",
        "    conteo = 0\n",
        "    for i in fechas_df['mes']:\n",
        "        if   i < 10 :\n",
        "            fechas_df.iloc[conteo,2]= \"0\" + str(i)\n",
        "        else:\n",
        "            fechas_df.iloc[conteo,2]= str(i)\n",
        "        conteo = conteo +1\n",
        "mes()"
      ],
      "execution_count": 107,
      "outputs": []
    },
    {
      "cell_type": "code",
      "metadata": {
        "id": "ftda-d9aRtrP",
        "outputId": "9f04ce64-219a-4a45-82c9-a8cb684281f7",
        "colab": {
          "base_uri": "https://localhost:8080/",
          "height": 197
        }
      },
      "source": [
        "fechas_df.tail()"
      ],
      "execution_count": 108,
      "outputs": [
        {
          "output_type": "execute_result",
          "data": {
            "text/html": [
              "<div>\n",
              "<style scoped>\n",
              "    .dataframe tbody tr th:only-of-type {\n",
              "        vertical-align: middle;\n",
              "    }\n",
              "\n",
              "    .dataframe tbody tr th {\n",
              "        vertical-align: top;\n",
              "    }\n",
              "\n",
              "    .dataframe thead th {\n",
              "        text-align: right;\n",
              "    }\n",
              "</style>\n",
              "<table border=\"1\" class=\"dataframe\">\n",
              "  <thead>\n",
              "    <tr style=\"text-align: right;\">\n",
              "      <th></th>\n",
              "      <th>Fecha</th>\n",
              "      <th>Año</th>\n",
              "      <th>mes</th>\n",
              "    </tr>\n",
              "  </thead>\n",
              "  <tbody>\n",
              "    <tr>\n",
              "      <th>115</th>\n",
              "      <td>2020-04-01</td>\n",
              "      <td>2020</td>\n",
              "      <td>04</td>\n",
              "    </tr>\n",
              "    <tr>\n",
              "      <th>116</th>\n",
              "      <td>2020-05-01</td>\n",
              "      <td>2020</td>\n",
              "      <td>05</td>\n",
              "    </tr>\n",
              "    <tr>\n",
              "      <th>117</th>\n",
              "      <td>2020-06-01</td>\n",
              "      <td>2020</td>\n",
              "      <td>06</td>\n",
              "    </tr>\n",
              "    <tr>\n",
              "      <th>118</th>\n",
              "      <td>2020-07-01</td>\n",
              "      <td>2020</td>\n",
              "      <td>07</td>\n",
              "    </tr>\n",
              "    <tr>\n",
              "      <th>119</th>\n",
              "      <td>2020-08-01</td>\n",
              "      <td>2020</td>\n",
              "      <td>08</td>\n",
              "    </tr>\n",
              "  </tbody>\n",
              "</table>\n",
              "</div>"
            ],
            "text/plain": [
              "          Fecha   Año mes\n",
              "115  2020-04-01  2020  04\n",
              "116  2020-05-01  2020  05\n",
              "117  2020-06-01  2020  06\n",
              "118  2020-07-01  2020  07\n",
              "119  2020-08-01  2020  08"
            ]
          },
          "metadata": {
            "tags": []
          },
          "execution_count": 108
        }
      ]
    },
    {
      "cell_type": "code",
      "metadata": {
        "id": "B3uOQPYfQKMz",
        "outputId": "5d87c22b-db24-4280-fc03-df1c76656733",
        "colab": {
          "base_uri": "https://localhost:8080/",
          "height": 1000
        }
      },
      "source": [
        "df = pd.DataFrame(columns =['Año','Periodo','AFP','Fondo','Rentabilidad Mensual'])\n",
        "FONDOS = ['FONDO A', 'FONDO B', 'FONDO C', 'FONDO D', 'FONDO E']\n",
        "AFPS = ['CAPITAL', 'CUPRUM', 'HABITAT', 'MODELO', 'PLANVITAL', 'PROVIDA','SISTEMA']\n",
        "\n",
        "\n",
        "chrome_options = webdriver.ChromeOptions()\n",
        "chrome_options.add_argument('--headless')\n",
        "chrome_options.add_argument('--no-sandbox')\n",
        "chrome_options.add_argument('--disable-dev-shm-usage')\n",
        "wd = webdriver.Chrome('chromedriver',chrome_options=chrome_options)\n",
        "driver =webdriver.Chrome('chromedriver',chrome_options=chrome_options)\n",
        "\n",
        "\n",
        "driver.get('https://www.spensiones.cl/apps/rentabilidad/getRentabilidad.php?tiprent=FP&template=0')\n",
        "\n",
        "wait = WebDriverWait(driver, 10)\n",
        "\n",
        "html = driver.execute_script('return document.documentElement.outerHTML')\n",
        "soup = bs.BeautifulSoup(html, 'html.parser')\n",
        "\n",
        "\n",
        "def datos_2010_2019(fechas_df,df):\n",
        "\n",
        "    #periodo = ['2010', '2010']\n",
        "    #mes = ['01','02']\n",
        "    periodo = list(fechas_df['Año'])\n",
        "    mes = list(fechas_df['mes'])\n",
        "\n",
        "    #print(mes)\n",
        "    suma = 0\n",
        "    for a, b in zip(periodo,mes):\n",
        "        a = str(a)\n",
        "        b = str(b)\n",
        "        gdp_table = cambio_url(a,b)\n",
        "        valores = []\n",
        "        for idx, val in enumerate(gdp_table):\n",
        "                val = str(val)\n",
        "                #print(gdp_table)\n",
        "                start = '\"right\">'\n",
        "                end = '</td>'\n",
        "                val = val[val.find(start)+len(start):val.rfind(end)]\n",
        "                numero = ''\n",
        "                for i in list(val):\n",
        "                    if i not in  (',','%','-'):\n",
        "                        numero = numero + i\n",
        "                if numero != '\\xa0':\n",
        "                    if val[0] != '-':\n",
        "                        numero = int(numero)/100\n",
        "                    else:\n",
        "                        numero = int(numero)/100*-1\n",
        "                else:\n",
        "                        numero = 0 \n",
        "     \n",
        "                fondo_c = range(56,87)\n",
        "                fondo_e = range(116,155)\n",
        "                fondo_d = range(88,116)\n",
        "                if idx in fondo_c:\n",
        "                    if idx in (56, 61, 66, 71,76,81, 86):\n",
        "                        valores.append(numero)\n",
        "                elif idx in fondo_d:\n",
        "                    if idx in (91, 95, 99,103,107, 111,115):\n",
        "                        #print('h0la')\n",
        "                        valores.append(numero)\n",
        "                elif idx in fondo_e:\n",
        "                    if idx in (119,124, 129, 134, 139, 144, 149):\n",
        "                        valores.append(numero)\n",
        "                elif idx % 4 == 0:\n",
        "                        valores.append(numero)\n",
        "        contador = 0\n",
        "        print(valores)\n",
        "        suma = suma + 1\n",
        "        print(suma)\n",
        "        if len(valores) ==0:\n",
        "           return df\n",
        "        for i in FONDOS:\n",
        "            for j in AFPS:\n",
        "                new_row = {'Año': a, 'Periodo':b, 'AFP':j, 'Fondo':i, 'Rentabilidad Mensual':valores[contador]}\n",
        "                df = df.append(new_row, ignore_index=True)\n",
        "                contador = 1 + contador\n",
        "    return df\n",
        "datos_2010_2015 = datos_2010_2019(fechas_df,df)"
      ],
      "execution_count": 100,
      "outputs": [
        {
          "output_type": "stream",
          "text": [
            "/usr/local/lib/python3.6/dist-packages/ipykernel_launcher.py:10: DeprecationWarning: use options instead of chrome_options\n",
            "  # Remove the CWD from sys.path while we load stuff.\n",
            "/usr/local/lib/python3.6/dist-packages/ipykernel_launcher.py:11: DeprecationWarning: use options instead of chrome_options\n",
            "  # This is added back by InteractiveShellApp.init_path()\n"
          ],
          "name": "stderr"
        },
        {
          "output_type": "stream",
          "text": [
            "[5.76, 5.53, 5.83, 4.86, 6.13, 6.0, 5.79, 4.26, 3.8, 4.22, 3.57, 4.37, 4.33, 4.18, 2.37, 2.08, 2.35, 1.32, 2.5, 2.39, 2.32, 1.06, 0.65, 0.85, 1.41, 1.0, 0.9, 0.89, -1.27, -1.42, -1.36, 0.74, -1.12, -1.27, -1.33]\n",
            "1\n",
            "[3.22, 3.46, 3.3, 3.2, 3.3, 3.55, 3.39, 2.5, 2.7, 2.62, 2.51, 2.65, 2.77, 2.65, 1.58, 1.76, 1.56, 1.51, 1.66, 1.64, 1.63, 1.04, 0.97, 0.82, 1.2, 1.13, 0.8, 0.9, -0.23, -0.46, -0.66, 0.92, -0.42, -0.66, -0.51]\n",
            "2\n",
            "[-1.38, -1.23, -1.24, -1.11, -1.28, -1.36, -1.3, -0.84, -0.6, -0.68, -0.63, -0.88, -0.81, -0.74, -0.33, -0.12, -0.31, 0.14, -0.46, -0.39, -0.31, -0.05, 0.25, -0.18, 0.4, -0.3, -0.14, -0.07, 1.0, 1.34, 1.08, 1.9, 1.07, 0.96, 1.09]\n",
            "3\n",
            "[1.29, 1.29, 1.5, 0.94, 1.39, 1.45, 1.38, 0.72, 0.76, 0.88, 0.57, 0.84, 0.86, 0.81, 0.33, 0.32, 0.58, 0.18, 0.28, 0.46, 0.43, 0.23, 0.33, 0.5, 0.31, 0.05, 0.34, 0.34, 0.25, 0.66, 0.7, 0.53, 0.19, 0.46, 0.52]\n",
            "4\n",
            "[0.07, 0.36, -0.29, -0.16, 0.18, -0.04, 0.03, -0.01, 0.11, -0.35, -0.19, 0.16, -0.2, -0.13, -0.08, -0.14, -0.5, -0.23, 0.02, -0.22, -0.24, 0.1, -0.01, -0.53, -0.31, 0.39, 0.03, -0.07, -1.3, -1.45, -1.96, -0.09, -0.89, -1.17, -1.48]\n",
            "5\n",
            "[-2.78, -2.59, -2.2, -2.68, -2.83, -2.57, -2.54, -2.28, -2.03, -1.84, -2.24, -2.32, -2.09, -2.06, -1.43, -1.28, -1.16, -1.52, -1.54, -1.3, -1.3, -0.27, -0.03, -0.02, -0.29, -0.52, -0.24, -0.18, 1.51, 1.31, 1.57, 0.64, 1.06, 1.26, 1.41]\n",
            "6\n",
            "[3.82, 3.69, 4.0, 4.06, 4.21, 3.9, 3.86, 3.29, 3.3, 3.35, 3.37, 3.39, 3.36, 3.33, 2.83, 2.77, 3.03, 2.77, 2.94, 2.83, 2.87, 1.88, 1.91, 2.29, 1.72, 2.07, 2.06, 2.04, 1.57, 1.64, 1.92, 0.83, 1.45, 1.74, 1.72]\n",
            "7\n",
            "[0.46, 0.44, 0.41, 0.16, 0.61, 0.35, 0.42, 0.54, 0.5, 0.57, 0.36, 0.74, 0.46, 0.52, 0.58, 0.48, 0.65, 0.5, 0.66, 0.55, 0.57, 0.43, 0.37, 0.35, 0.38, 0.22, 0.35, 0.37, 0.47, 0.43, 0.48, 0.4, 0.14, 0.53, 0.47]\n",
            "8\n",
            "[-1.26, -1.32, -1.24, -1.08, -1.35, -1.26, -1.27, -0.6, -0.66, -0.6, -0.54, -0.67, -0.67, -0.63, -0.2, -0.24, -0.23, -0.18, -0.24, -0.2, -0.22, -0.02, -0.06, -0.07, -0.05, -0.01, -0.04, -0.05, 0.1, 0.14, 0.02, 0.12, 0.12, 0.07, 0.08]\n",
            "9\n",
            "[-1.33, -1.4, -1.28, -0.91, -1.29, -1.36, -1.34, -1.19, -1.3, -1.39, -0.89, -1.18, -1.26, -1.28, -0.82, -1.09, -0.89, -0.18, -0.86, -0.88, -0.91, -0.5, -0.91, -0.59, -0.31, -0.64, -0.61, -0.63, -0.46, -2.03, -0.59, -0.11, -0.64, -1.46, -1.11]\n",
            "10\n",
            "[-2.23, -2.21, -2.25, -2.6, -2.15, -2.23, -2.23, -1.81, -1.89, -1.83, -2.13, -1.87, -1.85, -1.85, -1.36, -1.51, -1.41, -1.48, -1.76, -1.56, -1.48, -0.72, -0.72, -0.73, -0.75, -0.95, -0.82, -0.76, 0.21, 0.47, 0.36, 0.06, 0.16, 0.45, 0.37]\n",
            "11\n",
            "[-6.48, -6.01, -6.41, -6.23, -6.3, -6.42, -6.33, -4.15, -3.7, -3.92, -4.19, -4.21, -4.04, -3.96, -1.96, -1.25, -1.39, -2.55, -2.04, -1.73, -1.61, -0.09, 0.14, 0.74, -0.49, -0.15, 0.3, 0.26, 3.31, 3.12, 3.84, 1.74, 2.67, 3.3, 3.4]\n",
            "12\n",
            "[-4.4, -4.63, -4.5, -3.64, -4.74, -4.39, -4.49, -3.42, -3.36, -3.08, -2.51, -3.3, -3.13, -3.23, -2.19, -2.27, -1.96, -1.43, -1.73, -1.87, -2.03, -1.06, -0.82, -0.67, -0.29, -0.32, -0.51, -0.72, -0.42, 0.39, -0.26, 0.44, 0.14, 0.07, -0.05]\n",
            "13\n",
            "[5.89, 5.98, 6.15, 6.53, 6.65, 5.36, 5.85, 3.93, 3.85, 3.79, 4.44, 4.21, 3.25, 3.69, 1.65, 1.66, 1.6, 2.18, 1.94, 0.97, 1.43, -0.29, 0.03, -0.15, 0.42, 0.02, -0.8, -0.36, -2.23, -1.87, -1.89, -1.11, -1.76, -2.13, -2.0]\n",
            "14\n",
            "[-4.02, -3.37, -3.51, -3.64, -4.18, -3.78, -3.68, -2.8, -2.22, -2.34, -2.42, -2.89, -2.61, -2.5, -1.68, -1.29, -1.27, -1.39, -1.55, -1.5, -1.44, -0.58, -0.48, -0.37, -0.45, -0.46, -0.42, -0.46, 0.66, 0.65, 0.67, 0.48, 0.55, 0.7, 0.67]\n",
            "15\n",
            "[0.59, 0.53, 0.57, 1.02, 0.81, 0.83, 0.64, 0.61, 0.52, 0.55, 0.89, 0.82, 0.77, 0.63, 0.56, 0.47, 0.53, 0.68, 0.7, 0.76, 0.6, 0.65, 0.43, 0.6, 0.76, 0.62, 0.76, 0.64, 0.89, 0.68, 0.67, 0.72, 0.69, 0.87, 0.76]\n",
            "16\n",
            "[2.57, 2.45, 2.64, 2.03, 3.04, 2.44, 2.53, 1.87, 1.76, 1.82, 1.59, 2.2, 1.77, 1.81, 1.44, 1.35, 1.49, 1.34, 1.53, 1.36, 1.41, 1.2, 1.22, 1.25, 1.27, 1.13, 1.2, 1.21, 1.06, 1.32, 1.31, 1.35, 1.13, 1.25, 1.24]\n",
            "17\n",
            "[3.76, 3.66, 3.72, 3.83, 3.98, 3.77, 3.73, 2.84, 2.66, 2.76, 2.97, 2.9, 2.76, 2.76, 1.76, 1.59, 1.64, 2.03, 1.79, 1.66, 1.67, 0.59, 0.4, 0.54, 0.69, 0.55, 0.47, 0.51, -0.52, -0.8, -0.58, -0.3, -0.66, -0.63, -0.64]\n",
            "18\n",
            "[0.19, 0.25, 0.33, 0.12, 0.17, 0.03, 0.2, 0.19, 0.26, 0.3, 0.21, 0.14, 0.15, 0.22, 0.19, 0.12, 0.27, 0.23, 0.16, 0.1, 0.17, 0.02, -0.1, 0.06, 0.14, 0.0, -0.11, -0.03, -0.3, -0.62, -0.39, -0.17, -0.55, -0.73, -0.51]\n",
            "19\n",
            "[-1.21, -1.19, -1.08, -0.93, -1.06, -1.38, -1.21, -0.68, -0.75, -0.57, -0.65, -0.55, -0.83, -0.7, -0.17, -0.25, -0.2, -0.22, -0.05, -0.3, -0.23, 0.0, 0.06, 0.04, 0.09, 0.14, 0.0, 0.02, 0.44, 0.49, 0.55, 0.37, 0.53, 0.44, 0.49]\n",
            "20\n",
            "[-4.46, -4.3, -4.44, -4.68, -4.33, -4.4, -4.4, -2.99, -2.86, -2.91, -3.13, -2.89, -2.93, -2.92, -1.36, -1.37, -1.33, -1.54, -1.38, -1.3, -1.34, 0.07, 0.04, 0.09, -0.16, 0.16, 0.08, 0.07, 1.31, 1.24, 1.43, 1.05, 1.34, 1.45, 1.35]\n",
            "21\n",
            "[0.03, 0.18, 0.03, 0.3, -0.04, 0.23, 0.12, -0.04, 0.16, -0.02, 0.13, 0.03, 0.14, 0.06, 0.06, 0.2, 0.13, 0.29, 0.1, 0.26, 0.17, -0.02, -0.03, 0.01, 0.11, -0.03, 0.14, 0.04, 0.01, -0.02, 0.02, -0.04, 0.0, 0.17, 0.03]\n",
            "22\n",
            "[0.09, -0.06, 0.09, 0.37, 0.3, 0.06, 0.05, -0.31, -0.33, -0.21, 0.0, 0.0, -0.2, -0.24, -0.36, -0.4, -0.28, -0.04, -0.12, -0.33, -0.33, -0.19, -0.17, -0.09, 0.07, -0.03, -0.01, -0.1, 0.14, 0.2, 0.19, 0.16, 0.18, 0.35, 0.21]\n",
            "23\n",
            "[-0.15, 0.03, -0.15, -0.1, 0.05, -0.01, -0.06, -0.02, 0.07, -0.15, 0.07, 0.15, 0.04, -0.02, 0.21, 0.36, 0.24, 0.36, 0.37, 0.31, 0.28, 0.6, 0.75, 0.72, 0.73, 0.72, 0.65, 0.68, 0.86, 1.0, 1.0, 0.94, 0.88, 0.91, 0.95]\n",
            "24\n",
            "[2.54, 2.31, 2.28, 2.28, 2.28, 2.5, 2.4, 1.9, 1.71, 1.74, 1.61, 1.67, 1.81, 1.79, 1.28, 1.11, 1.17, 1.1, 1.11, 1.17, 1.18, 0.72, 0.59, 0.66, 0.6, 0.58, 0.63, 0.65, 0.22, 0.14, 0.14, 0.16, 0.23, 0.15, 0.16]\n",
            "25\n",
            "[0.5, 0.44, 0.58, 0.22, 0.41, 0.49, 0.5, 0.42, 0.38, 0.5, 0.27, 0.42, 0.49, 0.45, 0.42, 0.37, 0.42, 0.23, 0.42, 0.37, 0.39, 0.13, 0.1, 0.12, 0.11, 0.18, 0.1, 0.12, -0.24, -0.19, -0.27, -0.13, -0.23, -0.33, -0.25]\n",
            "26\n",
            "[-0.9, -0.81, -0.89, -0.94, -0.81, -0.78, -0.84, -0.88, -0.8, -0.8, -0.9, -0.77, -0.77, -0.81, -0.63, -0.56, -0.58, -0.59, -0.58, -0.54, -0.57, -0.43, -0.38, -0.36, -0.34, -0.35, -0.22, -0.33, -0.14, -0.13, -0.13, -0.14, -0.12, 0.07, -0.1]\n",
            "27\n",
            "[3.18, 3.12, 3.15, 3.12, 2.9, 3.24, 3.17, 2.48, 2.49, 2.48, 2.47, 2.31, 2.61, 2.51, 1.75, 1.72, 1.74, 1.73, 1.58, 1.85, 1.77, 0.94, 0.95, 0.95, 0.85, 0.84, 0.96, 0.95, 0.17, 0.14, 0.26, 0.17, 0.21, 0.2, 0.19]\n",
            "28\n",
            "[3.68, 3.8, 3.77, 3.49, 3.53, 3.43, 3.67, 2.82, 3.07, 2.84, 2.8, 2.73, 2.57, 2.8, 1.79, 2.04, 1.86, 1.92, 1.75, 1.54, 1.77, 0.84, 1.11, 0.9, 1.02, 0.89, 0.71, 0.86, 0.16, 0.09, -0.09, 0.38, 0.05, 0.0, 0.03]\n",
            "29\n",
            "[-0.33, -0.3, -0.33, -0.48, -0.37, -0.4, -0.34, -0.17, -0.14, -0.11, -0.24, -0.16, -0.32, -0.19, 0.12, 0.15, 0.2, 0.09, 0.17, 0.06, 0.13, 0.39, 0.41, 0.45, 0.45, 0.46, 0.39, 0.41, 0.63, 0.7, 0.77, 0.75, 0.65, 0.71, 0.71]\n",
            "30\n",
            "[-0.08, -0.04, -0.04, -0.37, -0.22, -0.08, -0.06, -0.1, -0.01, -0.05, -0.31, -0.22, -0.15, -0.09, 0.12, 0.24, 0.17, -0.11, 0.01, 0.06, 0.13, 0.22, 0.34, 0.31, 0.12, 0.16, 0.14, 0.23, 0.22, 0.34, 0.29, 0.14, 0.31, 0.17, 0.27]\n",
            "31\n",
            "[-0.64, -0.45, -0.3, -0.62, -0.46, -0.35, -0.44, -0.63, -0.53, -0.39, -0.61, -0.44, -0.37, -0.47, -0.05, 0.0, 0.1, -0.29, 0.09, 0.2, 0.08, 0.43, 0.61, 0.63, 0.34, 0.49, 0.73, 0.61, 0.7, 0.83, 0.75, 0.28, 0.81, 0.93, 0.79]\n",
            "32\n",
            "[2.51, 2.42, 2.39, 2.48, 2.85, 2.37, 2.43, 1.54, 1.49, 1.58, 1.47, 1.75, 1.54, 1.54, 1.18, 1.37, 1.27, 1.1, 1.27, 1.31, 1.28, 0.9, 0.91, 0.94, 0.86, 0.95, 0.98, 0.94, 0.58, 0.49, 0.51, 0.39, 0.53, 0.64, 0.54]\n",
            "33\n",
            "[-4.1, -4.09, -3.93, -4.09, -3.93, -4.04, -4.04, -2.98, -2.93, -2.75, -2.74, -2.83, -3.05, -2.92, -1.83, -1.73, -1.58, -1.46, -1.72, -1.83, -1.74, -0.6, -0.5, -0.45, -0.42, -0.49, -0.65, -0.56, 0.64, 0.6, 0.69, 0.7, 0.65, 0.48, 0.61]\n",
            "34\n",
            "[1.99, 2.07, 2.03, 2.24, 2.34, 2.14, 2.07, 1.1, 1.26, 1.11, 1.22, 1.43, 1.29, 1.19, 0.84, 0.97, 0.78, 0.89, 1.03, 0.99, 0.9, 0.79, 0.81, 0.81, 0.92, 0.89, 0.87, 0.83, 0.48, 0.5, 0.51, 0.31, 0.48, 0.55, 0.51]\n",
            "35\n",
            "[-3.71, -3.8, -3.7, -3.64, -3.64, -3.78, -3.74, -2.89, -2.95, -2.88, -2.87, -2.77, -2.97, -2.92, -1.92, -1.98, -1.95, -1.91, -1.77, -1.87, -1.92, -0.85, -0.98, -1.01, -0.88, -0.88, -0.82, -0.9, 0.17, 0.1, 0.09, 0.11, 0.15, 0.2, 0.13]\n",
            "36\n",
            "[4.22, 4.24, 4.12, 4.64, 4.28, 4.16, 4.19, 3.31, 3.37, 3.27, 3.55, 3.31, 3.42, 3.34, 2.06, 2.22, 2.02, 2.2, 2.12, 2.1, 2.1, 1.08, 1.11, 1.06, 1.16, 1.1, 1.03, 1.06, 0.1, 0.17, 0.17, 0.17, 0.17, 0.12, 0.15]\n",
            "37\n",
            "[2.82, 2.83, 2.71, 2.76, 2.61, 2.79, 2.78, 2.11, 1.99, 1.93, 1.98, 1.91, 2.07, 2.02, 1.78, 1.7, 1.65, 1.52, 1.56, 1.72, 1.71, 1.37, 1.3, 1.34, 1.19, 1.22, 1.37, 1.35, 0.83, 0.79, 0.88, 0.71, 0.76, 0.8, 0.82]\n",
            "38\n",
            "[1.19, 1.25, 1.17, 1.29, 1.12, 0.97, 1.15, 0.71, 0.81, 0.69, 0.77, 0.69, 0.47, 0.66, 0.61, 0.67, 0.64, 0.8, 0.54, 0.4, 0.56, 0.54, 0.62, 0.57, 0.72, 0.54, 0.43, 0.52, 0.27, 0.37, 0.23, 0.4, 0.29, 0.14, 0.26]\n",
            "39\n",
            "[-0.84, -0.62, -0.72, -0.76, -0.75, -0.66, -0.71, -0.62, -0.47, -0.53, -0.52, -0.52, -0.48, -0.52, -0.38, -0.28, -0.34, -0.23, -0.24, -0.31, -0.32, -0.15, 0.05, -0.03, 0.07, 0.0, 0.0, -0.03, 0.16, 0.18, 0.1, 0.34, 0.18, 0.17, 0.15]\n",
            "40\n",
            "[-1.78, -1.68, -1.87, -1.84, -1.65, -1.75, -1.77, -1.15, -1.07, -1.29, -1.24, -1.05, -1.08, -1.16, -0.18, -0.03, -0.23, -0.4, -0.15, 0.02, -0.1, 0.69, 0.9, 0.61, 0.34, 0.75, 0.82, 0.75, 1.16, 1.45, 1.32, 0.79, 1.24, 1.29, 1.31]\n",
            "41\n",
            "[4.49, 4.7, 4.74, 4.46, 4.69, 4.66, 4.65, 3.62, 3.73, 3.72, 3.65, 3.68, 3.78, 3.71, 2.63, 2.69, 2.71, 2.75, 2.64, 2.74, 2.7, 1.26, 1.32, 1.36, 1.52, 1.45, 1.45, 1.36, 0.08, 0.07, 0.01, 0.32, 0.05, 0.23, 0.09]\n",
            "42\n",
            "[-0.74, -0.73, -0.67, -0.52, -0.78, -0.69, -0.7, -0.26, -0.24, -0.15, -0.2, -0.36, -0.28, -0.23, 0.01, 0.12, 0.13, -0.04, -0.09, 0.02, 0.06, 0.32, 0.33, 0.44, 0.29, 0.19, 0.29, 0.33, 0.68, 0.67, 0.78, 0.62, 0.69, 0.74, 0.72]\n",
            "43\n",
            "[1.83, 1.86, 1.85, 1.98, 1.83, 1.81, 1.84, 1.54, 1.58, 1.58, 1.62, 1.56, 1.55, 1.56, 1.25, 1.29, 1.27, 1.29, 1.25, 1.27, 1.27, 0.95, 0.98, 0.92, 0.89, 0.96, 0.9, 0.93, 0.78, 0.77, 0.68, 0.56, 0.64, 0.69, 0.73]\n",
            "44\n",
            "[0.51, 0.51, 0.39, 0.32, 0.41, 0.58, 0.49, 0.35, 0.41, 0.26, 0.31, 0.26, 0.38, 0.34, 0.32, 0.35, 0.28, 0.32, 0.25, 0.22, 0.28, 0.31, 0.33, 0.23, 0.37, 0.16, 0.15, 0.24, 0.26, 0.28, 0.16, 0.34, 0.1, 0.1, 0.21]\n",
            "45\n",
            "[1.21, 1.18, 1.18, 1.12, 1.19, 1.15, 1.18, 0.88, 0.93, 0.89, 0.75, 0.89, 0.91, 0.9, 0.91, 1.0, 0.93, 0.6, 0.79, 0.91, 0.93, 0.75, 0.97, 0.88, 0.43, 0.68, 0.79, 0.82, 0.61, 0.81, 0.85, 0.19, 0.64, 0.64, 0.74]\n",
            "46\n",
            "[3.46, 3.48, 3.39, 3.33, 3.3, 3.4, 3.43, 2.87, 2.81, 2.86, 2.75, 2.75, 2.89, 2.85, 2.34, 2.3, 2.29, 2.1, 2.14, 2.4, 2.33, 1.6, 1.48, 1.53, 1.37, 1.47, 1.56, 1.54, 1.08, 0.92, 0.92, 0.79, 0.88, 0.97, 0.96]\n",
            "47\n",
            "[3.78, 3.87, 3.76, 3.58, 3.67, 3.79, 3.8, 3.24, 3.3, 3.19, 3.0, 3.21, 3.34, 3.25, 3.12, 3.33, 3.21, 2.61, 2.92, 3.36, 3.25, 2.78, 2.92, 2.86, 2.23, 2.7, 3.02, 2.9, 2.77, 2.63, 2.63, 1.64, 2.39, 2.8, 2.67]\n",
            "48\n",
            "[-2.62, -2.52, -2.49, -2.35, -2.51, -2.44, -2.51, -2.17, -2.1, -2.01, -1.81, -2.02, -2.07, -2.07, -1.91, -1.99, -1.93, -1.41, -1.66, -1.83, -1.89, -1.74, -1.66, -1.74, -1.11, -1.45, -1.53, -1.64, -1.68, -1.76, -1.83, -0.73, -1.2, -1.45, -1.68]\n",
            "49\n",
            "[-3.92, -3.99, -3.96, -4.13, -4.03, -4.12, -4.0, -2.74, -2.87, -2.83, -3.1, -2.99, -2.82, -2.83, -1.76, -1.68, -1.64, -2.22, -1.95, -1.67, -1.7, -0.86, -0.73, -0.64, -1.22, -1.07, -0.7, -0.75, 0.22, 0.52, 0.56, -0.06, -0.05, 0.5, 0.45]\n",
            "50\n",
            "[4.25, 4.29, 4.31, 4.25, 4.09, 4.31, 4.29, 3.16, 3.22, 3.24, 3.07, 3.04, 3.21, 3.2, 2.32, 2.45, 2.45, 2.17, 2.13, 2.27, 2.35, 1.33, 1.38, 1.49, 1.12, 1.25, 1.19, 1.32, 0.25, 0.39, 0.48, 0.19, 0.25, 0.18, 0.34]\n",
            "51\n",
            "[-1.79, -1.68, -1.71, -1.66, -1.77, -1.7, -1.72, -1.34, -1.29, -1.22, -1.25, -1.42, -1.29, -1.28, -0.68, -0.67, -0.66, -0.77, -0.88, -0.65, -0.67, -0.33, -0.31, -0.28, -0.39, -0.5, -0.3, -0.31, 0.11, 0.01, 0.23, 0.11, 0.0, 0.07, 0.1]\n",
            "52\n",
            "[3.23, 3.16, 3.1, 2.48, 2.84, 3.03, 3.11, 2.67, 2.75, 2.65, 2.22, 2.47, 2.62, 2.64, 2.28, 2.44, 2.46, 1.99, 2.12, 2.31, 2.35, 1.79, 1.93, 2.03, 1.61, 1.77, 1.84, 1.89, 1.02, 1.17, 1.18, 0.88, 0.98, 1.17, 1.14]\n",
            "53\n",
            "[1.41, 1.42, 1.34, 1.58, 1.51, 1.41, 1.4, 1.28, 1.24, 1.14, 1.39, 1.29, 1.14, 1.2, 1.14, 1.15, 1.02, 1.26, 1.17, 0.99, 1.07, 1.04, 1.09, 0.99, 1.13, 0.98, 0.96, 1.01, 0.81, 0.84, 0.9, 1.03, 0.75, 0.78, 0.84]\n",
            "54\n",
            "[0.22, 0.31, 0.16, 0.16, -0.02, 0.09, 0.19, 0.14, 0.22, 0.11, 0.15, 0.02, 0.05, 0.12, 0.26, 0.25, 0.12, 0.41, 0.15, 0.14, 0.18, 0.14, 0.19, -0.04, 0.4, 0.09, 0.1, 0.09, -0.06, -0.12, -0.36, 0.21, -0.06, -0.15, -0.17]\n",
            "55\n",
            "[0.59, 0.59, 0.71, 0.78, 0.7, 0.79, 0.67, 0.41, 0.39, 0.5, 0.44, 0.46, 0.54, 0.47, 0.01, 0.0, 0.12, -0.02, 0.07, 0.02, 0.04, -0.5, -0.49, -0.4, -0.4, -0.49, -0.47, -0.47, -0.64, -0.66, -0.51, -0.6, -0.63, -0.6, -0.6]\n",
            "56\n",
            "[0.14, 0.23, 0.27, 0.29, 0.06, 0.19, 0.21, -0.12, -0.05, -0.07, 0.0, -0.13, -0.15, -0.1, -0.39, -0.29, -0.32, -0.08, -0.26, -0.38, -0.34, -0.46, -0.46, -0.43, -0.11, -0.32, -0.44, -0.44, -0.81, -0.91, -0.95, -0.32, -0.62, -0.78, -0.86]\n",
            "57\n",
            "[-1.37, -1.48, -1.27, -1.39, -1.51, -1.56, -1.42, -1.25, -1.26, -1.09, -1.1, -1.27, -1.42, -1.25, -0.93, -0.93, -0.78, -0.67, -0.94, -1.16, -0.96, -0.51, -0.49, -0.35, -0.17, -0.43, -0.71, -0.53, -0.22, -0.3, -0.3, -0.01, -0.22, -0.52, -0.33]\n",
            "58\n",
            "[2.87, 2.77, 2.85, 2.59, 2.47, 2.81, 2.81, 2.13, 2.14, 2.19, 1.95, 1.79, 2.19, 2.15, 2.02, 2.06, 2.15, 1.77, 1.65, 2.06, 2.06, 1.95, 2.01, 2.08, 1.66, 1.72, 2.08, 2.02, 1.54, 1.61, 1.7, 1.03, 1.17, 1.53, 1.59]\n",
            "59\n",
            "[-3.6, -3.45, -3.61, -3.72, -3.62, -3.61, -3.57, -2.3, -2.15, -2.35, -2.46, -2.34, -2.4, -2.32, -1.13, -1.0, -1.06, -1.32, -1.24, -1.24, -1.13, -0.24, -0.09, -0.16, -0.36, -0.29, -0.34, -0.23, 0.54, 0.66, 0.54, 0.33, 0.36, 0.51, 0.56]\n",
            "60\n",
            "[-3.49, -3.47, -3.42, -3.45, -3.2, -3.39, -3.44, -2.85, -2.77, -2.81, -2.64, -2.49, -2.79, -2.79, -2.22, -2.11, -2.19, -1.96, -1.95, -2.14, -2.15, -1.52, -1.34, -1.56, -1.22, -1.3, -1.49, -1.48, -0.63, -0.69, -0.81, -0.53, -0.68, -0.81, -0.73]\n",
            "61\n",
            "[4.96, 4.98, 4.96, 5.01, 4.91, 4.85, 4.94, 3.45, 3.44, 3.51, 3.4, 3.28, 3.49, 3.47, 2.03, 1.96, 2.17, 1.97, 1.96, 2.02, 2.05, 0.91, 0.9, 0.98, 0.77, 0.77, 0.82, 0.89, -0.1, -0.09, 0.13, -0.16, -0.16, -0.06, -0.03]\n",
            "62\n",
            "[1.44, 1.37, 1.46, 1.38, 1.38, 1.41, 1.42, 0.84, 0.78, 0.94, 0.79, 0.86, 0.82, 0.85, 0.65, 0.52, 0.56, 0.53, 0.64, 0.56, 0.57, 0.43, 0.3, 0.34, 0.42, 0.44, 0.39, 0.38, -0.13, -0.17, -0.19, -0.11, -0.13, -0.11, -0.15]\n",
            "63\n"
          ],
          "name": "stdout"
        }
      ]
    },
    {
      "cell_type": "code",
      "metadata": {
        "id": "jZs9529HQR02",
        "outputId": "797bd52f-b90d-4bfe-8e9b-5e6852aee8aa",
        "colab": {
          "base_uri": "https://localhost:8080/",
          "height": 230
        }
      },
      "source": [
        "frames = [datos_2010_2015,datos_2015_2019, datos_2019_2020]\n",
        "\n",
        "df_rentabilidad = pd.concat(frames)\n",
        "\n"
      ],
      "execution_count": 120,
      "outputs": [
        {
          "output_type": "stream",
          "text": [
            "<class 'pandas.core.frame.DataFrame'>\n",
            "Int64Index: 4255 entries, 0 to 439\n",
            "Data columns (total 5 columns):\n",
            " #   Column                Non-Null Count  Dtype  \n",
            "---  ------                --------------  -----  \n",
            " 0   Año                   4255 non-null   object \n",
            " 1   Periodo               4255 non-null   object \n",
            " 2   AFP                   4255 non-null   object \n",
            " 3   Fondo                 4255 non-null   object \n",
            " 4   Rentabilidad Mensual  4255 non-null   float64\n",
            "dtypes: float64(1), object(4)\n",
            "memory usage: 199.5+ KB\n"
          ],
          "name": "stdout"
        }
      ]
    },
    {
      "cell_type": "code",
      "metadata": {
        "id": "zzswKN_8a-Iq",
        "outputId": "a7641349-2b21-4c25-d061-62c59c40a869",
        "colab": {
          "base_uri": "https://localhost:8080/",
          "height": 743
        }
      },
      "source": [
        "FONDOS = ['FONDO A', 'FONDO B', 'FONDO C', 'FONDO D', 'FONDO E']\n",
        "AFPS = ['CAPITAL', 'CUPRUM', 'HABITAT', 'MODELO', 'PLANVITAL', 'PROVIDA']\n",
        "\n",
        "\n",
        "df_rentabilidad_fecha = pd.DataFrame(columns = ['Año','Periodo', 'AFP','Fondo' ,'Rentabilidad Mensual','Fecha'])\n",
        "\n",
        "for x in FONDOS:\n",
        "    for i in AFPS:\n",
        "        df_rentabilidad_f = df_rentabilidad.loc[(df_rentabilidad['AFP'] == i) & (df_rentabilidad['Fondo'] == x)]\n",
        "        df_rentabilidad_f = df_rentabilidad_f.reset_index()\n",
        "        df_rentabilidad_f['Fecha'] = fechas_df['Fecha']\n",
        "        df_rentabilidad_fecha = df_rentabilidad_fecha.append(df_rentabilidad_f, ignore_index=True)\n",
        "\n",
        "df_rentabilidad_fecha.drop(columns = 'index',inplace = True)\n",
        "\n",
        "#df_rentabilidad_fecha['Rentabilidad Mensual'] = df_rentabilidad_fecha['Rentabilidad Mensual'].apply(lambda x : float(x)*100)\n",
        "g = sns.FacetGrid(df_rentabilidad_fecha, col=\"Fondo\", height=5, col_wrap=3) #size = (10,10))\n",
        "g.map_dataframe(sns.lineplot, x=\"Fecha\", y=\"Rentabilidad Mensual\", hue = 'AFP')\n",
        "g.set_axis_labels(\"Tiempo\", 'Rentabilidad Mensual')\n",
        "g.set(xticks=[date(2011, 1, 1), date(2014, 1, 1), date(2017, 1, 1), date(2020, 3, 1)])\n",
        "g.add_legend()\n",
        "sns.despine(left = False, bottom=False)"
      ],
      "execution_count": 121,
      "outputs": [
        {
          "output_type": "display_data",
          "data": {
            "image/png": "[encoded data removed]",
            "text/plain": [
              "<Figure size 1169.5x720 with 5 Axes>"
            ]
          },
          "metadata": {
            "tags": [],
            "needs_background": "light"
          }
        }
      ]
    },
    {
      "cell_type": "code",
      "metadata": {
        "id": "d_79ZfMcbqYt",
        "outputId": "4d57090d-a559-44a0-e5ee-0a6c09bc61ae",
        "colab": {
          "base_uri": "https://localhost:8080/",
          "height": 638
        }
      },
      "source": [
        "df_rentabilidad_fecha.loc[df_rentabilidad_fecha['Fondo']== 'FONDO C']\n",
        "plt.figure(figsize = (10,10))\n",
        "sns.lineplot(data = df_rentabilidad_fecha.loc[df_rentabilidad_fecha['Fondo']== 'FONDO B'], x=\"Fecha\", y=\"Rentabilidad Mensual\", hue = 'AFP')\n",
        "plt.title('Rentabilidad Mensual del Fondo C durante los ultimos 10 años')\n"
      ],
      "execution_count": 124,
      "outputs": [
        {
          "output_type": "execute_result",
          "data": {
            "text/plain": [
              "Text(0.5, 1.0, 'Rentabilidad Mensual del Fondo C durante los ultimos 10 años')"
            ]
          },
          "metadata": {
            "tags": []
          },
          "execution_count": 124
        },
        {
          "output_type": "display_data",
          "data": {
            "image/png": "[encoded data removed]",
            "text/plain": [
              "<Figure size 720x720 with 1 Axes>"
            ]
          },
          "metadata": {
            "tags": [],
            "needs_background": "light"
          }
        }
      ]
    },
    {
      "cell_type": "code",
      "metadata": {
        "id": "eHK1qq8OxHnr",
        "outputId": "6b690f98-8af3-4d12-cd42-c77b127712d3",
        "colab": {
          "base_uri": "https://localhost:8080/",
          "height": 623
        }
      },
      "source": [
        "df_rentabilidad\n",
        "\n",
        "df_rentabilidad_anual = pd.DataFrame(columns = ['Año','Rentabilidad Mensual','AFP','Fondo'])\n",
        "\n",
        "AFPS = ['CAPITAL', 'CUPRUM', 'HABITAT', 'MODELO', 'PLANVITAL', 'PROVIDA']\n",
        "\n",
        "FONDOS = ['FONDO A', 'FONDO B', 'FONDO C', 'FONDO D', 'FONDO E']\n",
        "\n",
        "for x in FONDOS: \n",
        "    for i in AFPS:\n",
        "       df_rentabilidad_anual_afp = df_rentabilidad.loc[(df_rentabilidad['AFP'] == 'MODELO') & (df_rentabilidad['Fondo'] == 'FONDO E') ].groupby('Año').mean().reset_index()\n",
        "       df_rentabilidad_anual_afp['AFP'] = i\n",
        "       df_rentabilidad_anual_afp['Fondo'] = x\n",
        "       df_rentabilidad_anual = df_rentabilidad_anual.append(df_rentabilidad_anual_afp, ignore_index=True)\n",
        "\n",
        "\n",
        "df_rentabilidad_anual\n",
        "\n",
        "plt.figure(figsize =(10,10))\n",
        "sns.lineplot(x=\"Año\", y=\"Rentabilidad Mensual\", hue = 'AFP', data = df_rentabilidad_anual.loc[df_rentabilidad_anual['Fondo']== 'FONDO A'])\n",
        "\n"
      ],
      "execution_count": 374,
      "outputs": [
        {
          "output_type": "execute_result",
          "data": {
            "text/plain": [
              "<matplotlib.axes._subplots.AxesSubplot at 0x7f0f224b3c50>"
            ]
          },
          "metadata": {
            "tags": []
          },
          "execution_count": 374
        },
        {
          "output_type": "display_data",
          "data": {
            "image/png": "[encoded data removed]",
            "text/plain": [
              "<Figure size 720x720 with 1 Axes>"
            ]
          },
          "metadata": {
            "tags": [],
            "needs_background": "light"
          }
        }
      ]
    },
    {
      "cell_type": "markdown",
      "metadata": {
        "id": "sIhi-LZncyhc"
      },
      "source": [
        "# **Comision por las  AFPs**"
      ]
    },
    {
      "cell_type": "code",
      "metadata": {
        "id": "pJMkpV-idG1p",
        "outputId": "92b3851b-22a7-4424-ab76-368f814f95bb",
        "colab": {
          "resources": {
            "http://localhost:8080/nbextensions/google.colab/files.js": {
              "data": "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",
              "ok": true,
              "headers": [
                [
                  "content-type",
                  "application/javascript"
                ]
              ],
              "status": 200,
              "status_text": ""
            }
          },
          "base_uri": "https://localhost:8080/",
          "height": 73
        }
      },
      "source": [
        "from google.colab import files\n",
        "uploaded = files.upload()"
      ],
      "execution_count": 125,
      "outputs": [
        {
          "output_type": "display_data",
          "data": {
            "text/html": [
              "\n",
              "     <input type=\"file\" id=\"files-1f7450ee-177a-4166-8380-808a90e9f670\" name=\"files[]\" multiple disabled\n",
              "        style=\"border:none\" />\n",
              "     <output id=\"result-1f7450ee-177a-4166-8380-808a90e9f670\">\n",
              "      Upload widget is only available when the cell has been executed in the\n",
              "      current browser session. Please rerun this cell to enable.\n",
              "      </output>\n",
              "      <script src=\"/nbextensions/google.colab/files.js\"></script> "
            ],
            "text/plain": [
              "<IPython.core.display.HTML object>"
            ]
          },
          "metadata": {
            "tags": []
          }
        },
        {
          "output_type": "stream",
          "text": [
            "Saving COMISION.csv to COMISION.csv\n"
          ],
          "name": "stdout"
        }
      ]
    },
    {
      "cell_type": "code",
      "metadata": {
        "id": "4fmjLhX7dWXe",
        "outputId": "35b8222c-5e42-46da-e6ee-eadfcddfcbd8",
        "colab": {
          "base_uri": "https://localhost:8080/",
          "height": 197
        }
      },
      "source": [
        "import io\n",
        "df2 = pd.read_csv(io.BytesIO(uploaded['COMISION.csv']), encoding='ISO-8859-1', sep = ';')\n",
        "df2.head()"
      ],
      "execution_count": 128,
      "outputs": [
        {
          "output_type": "execute_result",
          "data": {
            "text/html": [
              "<div>\n",
              "<style scoped>\n",
              "    .dataframe tbody tr th:only-of-type {\n",
              "        vertical-align: middle;\n",
              "    }\n",
              "\n",
              "    .dataframe tbody tr th {\n",
              "        vertical-align: top;\n",
              "    }\n",
              "\n",
              "    .dataframe thead th {\n",
              "        text-align: right;\n",
              "    }\n",
              "</style>\n",
              "<table border=\"1\" class=\"dataframe\">\n",
              "  <thead>\n",
              "    <tr style=\"text-align: right;\">\n",
              "      <th></th>\n",
              "      <th>Fecha</th>\n",
              "      <th>Año</th>\n",
              "      <th>Periodo</th>\n",
              "      <th>Comision</th>\n",
              "      <th>AFP</th>\n",
              "    </tr>\n",
              "  </thead>\n",
              "  <tbody>\n",
              "    <tr>\n",
              "      <th>0</th>\n",
              "      <td>31-10-2010</td>\n",
              "      <td>2010</td>\n",
              "      <td>10</td>\n",
              "      <td>1.44</td>\n",
              "      <td>CAPITAL</td>\n",
              "    </tr>\n",
              "    <tr>\n",
              "      <th>1</th>\n",
              "      <td>30-11-2010</td>\n",
              "      <td>2010</td>\n",
              "      <td>11</td>\n",
              "      <td>1.44</td>\n",
              "      <td>CAPITAL</td>\n",
              "    </tr>\n",
              "    <tr>\n",
              "      <th>2</th>\n",
              "      <td>31-12-2010</td>\n",
              "      <td>2010</td>\n",
              "      <td>12</td>\n",
              "      <td>1.44</td>\n",
              "      <td>CAPITAL</td>\n",
              "    </tr>\n",
              "    <tr>\n",
              "      <th>3</th>\n",
              "      <td>31-01-2011</td>\n",
              "      <td>2011</td>\n",
              "      <td>1</td>\n",
              "      <td>1.44</td>\n",
              "      <td>CAPITAL</td>\n",
              "    </tr>\n",
              "    <tr>\n",
              "      <th>4</th>\n",
              "      <td>28-02-2011</td>\n",
              "      <td>2011</td>\n",
              "      <td>2</td>\n",
              "      <td>1.44</td>\n",
              "      <td>CAPITAL</td>\n",
              "    </tr>\n",
              "  </tbody>\n",
              "</table>\n",
              "</div>"
            ],
            "text/plain": [
              "        Fecha   Año  Periodo  Comision      AFP\n",
              "0  31-10-2010  2010       10      1.44  CAPITAL\n",
              "1  30-11-2010  2010       11      1.44  CAPITAL\n",
              "2  31-12-2010  2010       12      1.44  CAPITAL\n",
              "3  31-01-2011  2011        1      1.44  CAPITAL\n",
              "4  28-02-2011  2011        2      1.44  CAPITAL"
            ]
          },
          "metadata": {
            "tags": []
          },
          "execution_count": 128
        }
      ]
    },
    {
      "cell_type": "code",
      "metadata": {
        "id": "w9-alZvqeJE4",
        "outputId": "da5d2ff5-4e6a-4dfd-f1bb-0c12e18157b1",
        "colab": {
          "base_uri": "https://localhost:8080/",
          "height": 230
        }
      },
      "source": [
        "df2.info()"
      ],
      "execution_count": 129,
      "outputs": [
        {
          "output_type": "stream",
          "text": [
            "<class 'pandas.core.frame.DataFrame'>\n",
            "RangeIndex: 720 entries, 0 to 719\n",
            "Data columns (total 5 columns):\n",
            " #   Column    Non-Null Count  Dtype  \n",
            "---  ------    --------------  -----  \n",
            " 0   Fecha     720 non-null    object \n",
            " 1   Año       720 non-null    int64  \n",
            " 2   Periodo   720 non-null    int64  \n",
            " 3   Comision  720 non-null    float64\n",
            " 4   AFP       720 non-null    object \n",
            "dtypes: float64(1), int64(2), object(2)\n",
            "memory usage: 28.2+ KB\n"
          ],
          "name": "stdout"
        }
      ]
    },
    {
      "cell_type": "code",
      "metadata": {
        "id": "bzrk2rrzd84G",
        "outputId": "351fa97d-dc1f-49d5-b33f-084701ccd7ca",
        "colab": {
          "base_uri": "https://localhost:8080/",
          "height": 422
        }
      },
      "source": [
        "#g = sns.FacetGrid(df2, col=\"AFP\", height=5, col_wrap=3) #size = (10,10))\n",
        "df2_anual = pd.DataFrame(columns = ['Año','Comision','AFP'])\n",
        "\n",
        "AFPS = ['CAPITAL', 'CUPRUM', 'HABITAT', 'MODELO', 'PLANVITAL', 'PROVIDA']\n",
        "\n",
        "\n",
        "\n",
        "for i in AFPS:\n",
        "       df2_comision = df2.loc[df2['AFP'] == i].groupby('Año').mean()['Comision'].reset_index()\n",
        "       df2_comision['AFP'] = i\n",
        "       df2_anual = df2_anual.append(df2_comision, ignore_index=True)\n",
        "\n",
        "plt.figure(figsize = (8,6))\n",
        "sns.lineplot(x=\"Año\", y=\"Comision\", hue = 'AFP', data = df2_anual)\n",
        "sns.despine(left = True, bottom=True)\n",
        "plt.title('Comision Promedio Anaul de las AFPs durante los ultimo 10 años')\n",
        "plt.xlim(2010,2020)\n",
        "plt.ylim(0,2.7)"
      ],
      "execution_count": 175,
      "outputs": [
        {
          "output_type": "execute_result",
          "data": {
            "text/plain": [
              "(0.0, 2.7)"
            ]
          },
          "metadata": {
            "tags": []
          },
          "execution_count": 175
        },
        {
          "output_type": "display_data",
          "data": {
            "image/png": "[encoded data removed]",
            "text/plain": [
              "<Figure size 576x432 with 1 Axes>"
            ]
          },
          "metadata": {
            "tags": [],
            "needs_background": "light"
          }
        }
      ]
    },
    {
      "cell_type": "markdown",
      "metadata": {
        "id": "E90MAo53i4y8"
      },
      "source": [
        "# **Metodologia de Calculo**"
      ]
    },
    {
      "cell_type": "code",
      "metadata": {
        "id": "K1Gn1l5Fi9V8"
      },
      "source": [
        "UF_2010_31_01 = 21394.11\n",
        "Salario = 1000000\n",
        "Salario_UF = Salario/UF_2010_31_01\n",
        "#Salario_UF = 1000000\n",
        "Monto_cotizar = Salario_UF*0.1"
      ],
      "execution_count": 384,
      "outputs": []
    },
    {
      "cell_type": "code",
      "metadata": {
        "id": "rth4GAQ1oU44",
        "outputId": "0097ce36-53df-4425-deea-c1647e97a318",
        "colab": {
          "base_uri": "https://localhost:8080/",
          "height": 406
        }
      },
      "source": [
        "df = df_rentabilidad.loc[(df_rentabilidad['AFP'] == 'CAPITAL') & (df_rentabilidad['Fondo'] == 'FONDO A')]\n",
        "df"
      ],
      "execution_count": 258,
      "outputs": [
        {
          "output_type": "execute_result",
          "data": {
            "text/html": [
              "<div>\n",
              "<style scoped>\n",
              "    .dataframe tbody tr th:only-of-type {\n",
              "        vertical-align: middle;\n",
              "    }\n",
              "\n",
              "    .dataframe tbody tr th {\n",
              "        vertical-align: top;\n",
              "    }\n",
              "\n",
              "    .dataframe thead th {\n",
              "        text-align: right;\n",
              "    }\n",
              "</style>\n",
              "<table border=\"1\" class=\"dataframe\">\n",
              "  <thead>\n",
              "    <tr style=\"text-align: right;\">\n",
              "      <th></th>\n",
              "      <th>Año</th>\n",
              "      <th>Periodo</th>\n",
              "      <th>AFP</th>\n",
              "      <th>Fondo</th>\n",
              "      <th>Rentabilidad Mensual</th>\n",
              "    </tr>\n",
              "  </thead>\n",
              "  <tbody>\n",
              "    <tr>\n",
              "      <th>0</th>\n",
              "      <td>2010</td>\n",
              "      <td>09</td>\n",
              "      <td>CAPITAL</td>\n",
              "      <td>FONDO A</td>\n",
              "      <td>5.76</td>\n",
              "    </tr>\n",
              "    <tr>\n",
              "      <th>35</th>\n",
              "      <td>2010</td>\n",
              "      <td>10</td>\n",
              "      <td>CAPITAL</td>\n",
              "      <td>FONDO A</td>\n",
              "      <td>3.22</td>\n",
              "    </tr>\n",
              "    <tr>\n",
              "      <th>70</th>\n",
              "      <td>2010</td>\n",
              "      <td>11</td>\n",
              "      <td>CAPITAL</td>\n",
              "      <td>FONDO A</td>\n",
              "      <td>-1.38</td>\n",
              "    </tr>\n",
              "    <tr>\n",
              "      <th>105</th>\n",
              "      <td>2010</td>\n",
              "      <td>12</td>\n",
              "      <td>CAPITAL</td>\n",
              "      <td>FONDO A</td>\n",
              "      <td>1.29</td>\n",
              "    </tr>\n",
              "    <tr>\n",
              "      <th>140</th>\n",
              "      <td>2011</td>\n",
              "      <td>01</td>\n",
              "      <td>CAPITAL</td>\n",
              "      <td>FONDO A</td>\n",
              "      <td>0.07</td>\n",
              "    </tr>\n",
              "    <tr>\n",
              "      <th>...</th>\n",
              "      <td>...</td>\n",
              "      <td>...</td>\n",
              "      <td>...</td>\n",
              "      <td>...</td>\n",
              "      <td>...</td>\n",
              "    </tr>\n",
              "    <tr>\n",
              "      <th>240</th>\n",
              "      <td>2020</td>\n",
              "      <td>04</td>\n",
              "      <td>CAPITAL</td>\n",
              "      <td>FONDO A</td>\n",
              "      <td>8.55</td>\n",
              "    </tr>\n",
              "    <tr>\n",
              "      <th>280</th>\n",
              "      <td>2020</td>\n",
              "      <td>05</td>\n",
              "      <td>CAPITAL</td>\n",
              "      <td>FONDO A</td>\n",
              "      <td>-0.66</td>\n",
              "    </tr>\n",
              "    <tr>\n",
              "      <th>320</th>\n",
              "      <td>2020</td>\n",
              "      <td>06</td>\n",
              "      <td>CAPITAL</td>\n",
              "      <td>FONDO A</td>\n",
              "      <td>5.34</td>\n",
              "    </tr>\n",
              "    <tr>\n",
              "      <th>360</th>\n",
              "      <td>2020</td>\n",
              "      <td>07</td>\n",
              "      <td>CAPITAL</td>\n",
              "      <td>FONDO A</td>\n",
              "      <td>-0.15</td>\n",
              "    </tr>\n",
              "    <tr>\n",
              "      <th>400</th>\n",
              "      <td>2020</td>\n",
              "      <td>08</td>\n",
              "      <td>CAPITAL</td>\n",
              "      <td>FONDO A</td>\n",
              "      <td>5.47</td>\n",
              "    </tr>\n",
              "  </tbody>\n",
              "</table>\n",
              "<p>120 rows × 5 columns</p>\n",
              "</div>"
            ],
            "text/plain": [
              "      Año Periodo      AFP    Fondo  Rentabilidad Mensual\n",
              "0    2010      09  CAPITAL  FONDO A                  5.76\n",
              "35   2010      10  CAPITAL  FONDO A                  3.22\n",
              "70   2010      11  CAPITAL  FONDO A                 -1.38\n",
              "105  2010      12  CAPITAL  FONDO A                  1.29\n",
              "140  2011      01  CAPITAL  FONDO A                  0.07\n",
              "..    ...     ...      ...      ...                   ...\n",
              "240  2020      04  CAPITAL  FONDO A                  8.55\n",
              "280  2020      05  CAPITAL  FONDO A                 -0.66\n",
              "320  2020      06  CAPITAL  FONDO A                  5.34\n",
              "360  2020      07  CAPITAL  FONDO A                 -0.15\n",
              "400  2020      08  CAPITAL  FONDO A                  5.47\n",
              "\n",
              "[120 rows x 5 columns]"
            ]
          },
          "metadata": {
            "tags": []
          },
          "execution_count": 258
        }
      ]
    },
    {
      "cell_type": "code",
      "metadata": {
        "id": "IsEAi21Ii_C-"
      },
      "source": [
        "def afps(afp,Fondo):\n",
        "    \n",
        "    fondo = pd.DataFrame(columns = ['Año','Periodo', 'AFP','Fondo' ,'Monto Inicial', 'Comisiones Cobradas', 'Comision Mes', 'Interes Ganados', 'Monto Final'])\n",
        "    fondo['Año'] = fechas_df['Año']\n",
        "    fondo['Periodo'] = fechas_df['mes']\n",
        "    fondo['AFP'] = afp\n",
        "    fondo['Fondo'] = Fondo\n",
        "    \n",
        "\n",
        "    df = df_rentabilidad.loc[(df_rentabilidad['AFP'] == afp ) & (df_rentabilidad['Fondo'] == Fondo)]\n",
        "    df = df.reset_index()\n",
        "    df = pd.concat([df['Rentabilidad Mensual'], fondo], axis=1, sort = False)\n",
        "    \n",
        "    df_comision_f = df2.loc[df2['AFP'] == afp]\n",
        "    df_comision_f = df_comision_f.reset_index()\n",
        "    df_comision_f = df_comision_f.iloc[:,:]\n",
        "\n",
        "    df = pd.concat([df_comision_f['Comision'], df], axis=1, sort=False)\n",
        "  \n",
        "\n",
        "    df = df[['Año','Periodo','AFP','Fondo','Rentabilidad Mensual','Comision','Monto Inicial', 'Comision Mes', 'Interes Ganados', 'Monto Final']]\n",
        "    \n",
        "    df['Rentabilidad Mensual'] = df['Rentabilidad Mensual']/100\n",
        "    df['Comision'] = df['Comision']/100\n",
        "\n",
        "    for i in range(120):\n",
        "        if i == 0:\n",
        "            df.iloc[i,6] = Monto_cotizar + Salario_UF*df.iloc[i,5]\n",
        "            df.iloc[i,7] = Salario_UF*df.iloc[i,5]\n",
        "            df.iloc[i,8] = Monto_cotizar * df.iloc[i,4]\n",
        "            df.iloc[i,9] = df.iloc[i,6] - df.iloc[i,7] +df.iloc[i,8]\n",
        " \n",
        "        #elif i == 1:\n",
        "        #    df.iloc[i,6] = Monto_cotizar\n",
        "        #    df.iloc[i,7] = df.iloc[i,6]* df.iloc[i,4]\n",
        "        #    df.iloc[i,8] = df.iloc[i,6] + df.iloc[i,7] - Salario_UF *0.1 * df.iloc[i-1,5]\n",
        "\n",
        "        else:\n",
        "            df.iloc[i,6] = df.iloc[i-1,9] + Monto_cotizar + Salario_UF*df.iloc[i,5]\n",
        "            df.iloc[i,7] = df.iloc[i-1,7] + Salario_UF*df.iloc[i,5]\n",
        "            df.iloc[i,8] = (df.iloc[i-1,9] + Monto_cotizar) *  (df.iloc[i,4])  \n",
        "            df.iloc[i,9] = df.iloc[i,6] - df.iloc[i,7] +df.iloc[i,8]\n",
        "    return df"
      ],
      "execution_count": 419,
      "outputs": []
    },
    {
      "cell_type": "code",
      "metadata": {
        "id": "Tx3t7D1Q3C-h",
        "outputId": "a43f7a2d-1859-4ee4-b4a3-5e84bcaac2b7",
        "colab": {
          "base_uri": "https://localhost:8080/",
          "height": 406
        }
      },
      "source": [
        "afps('CAPITAL','FONDO A')"
      ],
      "execution_count": 420,
      "outputs": [
        {
          "output_type": "execute_result",
          "data": {
            "text/html": [
              "<div>\n",
              "<style scoped>\n",
              "    .dataframe tbody tr th:only-of-type {\n",
              "        vertical-align: middle;\n",
              "    }\n",
              "\n",
              "    .dataframe tbody tr th {\n",
              "        vertical-align: top;\n",
              "    }\n",
              "\n",
              "    .dataframe thead th {\n",
              "        text-align: right;\n",
              "    }\n",
              "</style>\n",
              "<table border=\"1\" class=\"dataframe\">\n",
              "  <thead>\n",
              "    <tr style=\"text-align: right;\">\n",
              "      <th></th>\n",
              "      <th>Año</th>\n",
              "      <th>Periodo</th>\n",
              "      <th>AFP</th>\n",
              "      <th>Fondo</th>\n",
              "      <th>Rentabilidad Mensual</th>\n",
              "      <th>Comision</th>\n",
              "      <th>Monto Inicial</th>\n",
              "      <th>Comision Mes</th>\n",
              "      <th>Interes Ganados</th>\n",
              "      <th>Monto Final</th>\n",
              "    </tr>\n",
              "  </thead>\n",
              "  <tbody>\n",
              "    <tr>\n",
              "      <th>0</th>\n",
              "      <td>2010</td>\n",
              "      <td>09</td>\n",
              "      <td>CAPITAL</td>\n",
              "      <td>FONDO A</td>\n",
              "      <td>0.0576</td>\n",
              "      <td>0.0144</td>\n",
              "      <td>5.34727</td>\n",
              "      <td>0.673082</td>\n",
              "      <td>0.269233</td>\n",
              "      <td>4.94342</td>\n",
              "    </tr>\n",
              "    <tr>\n",
              "      <th>1</th>\n",
              "      <td>2010</td>\n",
              "      <td>10</td>\n",
              "      <td>CAPITAL</td>\n",
              "      <td>FONDO A</td>\n",
              "      <td>0.0322</td>\n",
              "      <td>0.0144</td>\n",
              "      <td>10.2907</td>\n",
              "      <td>1.34616</td>\n",
              "      <td>0.309687</td>\n",
              "      <td>9.2542</td>\n",
              "    </tr>\n",
              "    <tr>\n",
              "      <th>2</th>\n",
              "      <td>2010</td>\n",
              "      <td>11</td>\n",
              "      <td>CAPITAL</td>\n",
              "      <td>FONDO A</td>\n",
              "      <td>-0.0138</td>\n",
              "      <td>0.0144</td>\n",
              "      <td>14.6015</td>\n",
              "      <td>2.01925</td>\n",
              "      <td>-0.192212</td>\n",
              "      <td>12.39</td>\n",
              "    </tr>\n",
              "    <tr>\n",
              "      <th>3</th>\n",
              "      <td>2010</td>\n",
              "      <td>12</td>\n",
              "      <td>CAPITAL</td>\n",
              "      <td>FONDO A</td>\n",
              "      <td>0.0129</td>\n",
              "      <td>0.0144</td>\n",
              "      <td>17.7373</td>\n",
              "      <td>2.69233</td>\n",
              "      <td>0.220128</td>\n",
              "      <td>15.2651</td>\n",
              "    </tr>\n",
              "    <tr>\n",
              "      <th>4</th>\n",
              "      <td>2011</td>\n",
              "      <td>01</td>\n",
              "      <td>CAPITAL</td>\n",
              "      <td>FONDO A</td>\n",
              "      <td>0.0007</td>\n",
              "      <td>0.0144</td>\n",
              "      <td>20.6123</td>\n",
              "      <td>3.36541</td>\n",
              "      <td>0.0139575</td>\n",
              "      <td>17.2609</td>\n",
              "    </tr>\n",
              "    <tr>\n",
              "      <th>...</th>\n",
              "      <td>...</td>\n",
              "      <td>...</td>\n",
              "      <td>...</td>\n",
              "      <td>...</td>\n",
              "      <td>...</td>\n",
              "      <td>...</td>\n",
              "      <td>...</td>\n",
              "      <td>...</td>\n",
              "      <td>...</td>\n",
              "      <td>...</td>\n",
              "    </tr>\n",
              "    <tr>\n",
              "      <th>115</th>\n",
              "      <td>2020</td>\n",
              "      <td>04</td>\n",
              "      <td>CAPITAL</td>\n",
              "      <td>FONDO A</td>\n",
              "      <td>0.0855</td>\n",
              "      <td>0.0144</td>\n",
              "      <td>-3857.73</td>\n",
              "      <td>78.0776</td>\n",
              "      <td>-329.894</td>\n",
              "      <td>-4265.7</td>\n",
              "    </tr>\n",
              "    <tr>\n",
              "      <th>116</th>\n",
              "      <td>2020</td>\n",
              "      <td>05</td>\n",
              "      <td>CAPITAL</td>\n",
              "      <td>FONDO A</td>\n",
              "      <td>-0.0066</td>\n",
              "      <td>0.0144</td>\n",
              "      <td>-4260.36</td>\n",
              "      <td>78.7506</td>\n",
              "      <td>28.1228</td>\n",
              "      <td>-4310.98</td>\n",
              "    </tr>\n",
              "    <tr>\n",
              "      <th>117</th>\n",
              "      <td>2020</td>\n",
              "      <td>06</td>\n",
              "      <td>CAPITAL</td>\n",
              "      <td>FONDO A</td>\n",
              "      <td>0.0534</td>\n",
              "      <td>0.0144</td>\n",
              "      <td>-4305.64</td>\n",
              "      <td>79.4237</td>\n",
              "      <td>-229.957</td>\n",
              "      <td>-4615.02</td>\n",
              "    </tr>\n",
              "    <tr>\n",
              "      <th>118</th>\n",
              "      <td>2020</td>\n",
              "      <td>07</td>\n",
              "      <td>CAPITAL</td>\n",
              "      <td>FONDO A</td>\n",
              "      <td>-0.0015</td>\n",
              "      <td>0.0144</td>\n",
              "      <td>-4609.67</td>\n",
              "      <td>80.0968</td>\n",
              "      <td>6.91552</td>\n",
              "      <td>-4682.85</td>\n",
              "    </tr>\n",
              "    <tr>\n",
              "      <th>119</th>\n",
              "      <td>2020</td>\n",
              "      <td>08</td>\n",
              "      <td>CAPITAL</td>\n",
              "      <td>FONDO A</td>\n",
              "      <td>0.0547</td>\n",
              "      <td>0.0144</td>\n",
              "      <td>-4677.51</td>\n",
              "      <td>80.7699</td>\n",
              "      <td>-255.896</td>\n",
              "      <td>-5014.17</td>\n",
              "    </tr>\n",
              "  </tbody>\n",
              "</table>\n",
              "<p>120 rows × 10 columns</p>\n",
              "</div>"
            ],
            "text/plain": [
              "      Año Periodo      AFP  ... Comision Mes  Interes Ganados  Monto Final\n",
              "0    2010      09  CAPITAL  ...     0.673082         0.269233      4.94342\n",
              "1    2010      10  CAPITAL  ...      1.34616         0.309687       9.2542\n",
              "2    2010      11  CAPITAL  ...      2.01925        -0.192212        12.39\n",
              "3    2010      12  CAPITAL  ...      2.69233         0.220128      15.2651\n",
              "4    2011      01  CAPITAL  ...      3.36541        0.0139575      17.2609\n",
              "..    ...     ...      ...  ...          ...              ...          ...\n",
              "115  2020      04  CAPITAL  ...      78.0776         -329.894      -4265.7\n",
              "116  2020      05  CAPITAL  ...      78.7506          28.1228     -4310.98\n",
              "117  2020      06  CAPITAL  ...      79.4237         -229.957     -4615.02\n",
              "118  2020      07  CAPITAL  ...      80.0968          6.91552     -4682.85\n",
              "119  2020      08  CAPITAL  ...      80.7699         -255.896     -5014.17\n",
              "\n",
              "[120 rows x 10 columns]"
            ]
          },
          "metadata": {
            "tags": []
          },
          "execution_count": 420
        }
      ]
    },
    {
      "cell_type": "code",
      "metadata": {
        "id": "uYdSnDi0jzij",
        "outputId": "3a500f97-790f-4fc5-dfc0-6afc7dbeb783",
        "colab": {
          "base_uri": "https://localhost:8080/",
          "height": 406
        }
      },
      "source": [
        "FONDOS = ['FONDO A', 'FONDO B', 'FONDO C', 'FONDO D', 'FONDO E']\n",
        "AFPS = ['CAPITAL', 'CUPRUM', 'HABITAT', 'MODELO', 'PLANVITAL', 'PROVIDA']\n",
        "\n",
        "result = pd.DataFrame(columns = ['Año','Periodo', 'AFP','Fondo' ,'Monto Inicial', 'Interes Ganados', 'Monto Final'])\n",
        "\n",
        "for i in FONDOS:\n",
        "    for x in AFPS:\n",
        "        resultados = afps(x,i)\n",
        "        resultados['Fecha'] = fechas_df['Fecha']\n",
        "        result = result.append(resultados, ignore_index=True)\n",
        "result"
      ],
      "execution_count": 340,
      "outputs": [
        {
          "output_type": "execute_result",
          "data": {
            "text/html": [
              "<div>\n",
              "<style scoped>\n",
              "    .dataframe tbody tr th:only-of-type {\n",
              "        vertical-align: middle;\n",
              "    }\n",
              "\n",
              "    .dataframe tbody tr th {\n",
              "        vertical-align: top;\n",
              "    }\n",
              "\n",
              "    .dataframe thead th {\n",
              "        text-align: right;\n",
              "    }\n",
              "</style>\n",
              "<table border=\"1\" class=\"dataframe\">\n",
              "  <thead>\n",
              "    <tr style=\"text-align: right;\">\n",
              "      <th></th>\n",
              "      <th>Año</th>\n",
              "      <th>Periodo</th>\n",
              "      <th>AFP</th>\n",
              "      <th>Fondo</th>\n",
              "      <th>Monto Inicial</th>\n",
              "      <th>Interes Ganados</th>\n",
              "      <th>Monto Final</th>\n",
              "      <th>Rentabilidad Mensual</th>\n",
              "      <th>Comision</th>\n",
              "      <th>Fecha</th>\n",
              "    </tr>\n",
              "  </thead>\n",
              "  <tbody>\n",
              "    <tr>\n",
              "      <th>0</th>\n",
              "      <td>2010</td>\n",
              "      <td>09</td>\n",
              "      <td>CAPITAL</td>\n",
              "      <td>FONDO A</td>\n",
              "      <td>0</td>\n",
              "      <td>0</td>\n",
              "      <td>0</td>\n",
              "      <td>0.0576</td>\n",
              "      <td>0.0144</td>\n",
              "      <td>2010-09-01</td>\n",
              "    </tr>\n",
              "    <tr>\n",
              "      <th>1</th>\n",
              "      <td>2010</td>\n",
              "      <td>10</td>\n",
              "      <td>CAPITAL</td>\n",
              "      <td>FONDO A</td>\n",
              "      <td>4.67418</td>\n",
              "      <td>0.150509</td>\n",
              "      <td>4.75738</td>\n",
              "      <td>0.0322</td>\n",
              "      <td>0.0144</td>\n",
              "      <td>2010-10-01</td>\n",
              "    </tr>\n",
              "    <tr>\n",
              "      <th>2</th>\n",
              "      <td>2010</td>\n",
              "      <td>11</td>\n",
              "      <td>CAPITAL</td>\n",
              "      <td>FONDO A</td>\n",
              "      <td>9.43157</td>\n",
              "      <td>-0.130156</td>\n",
              "      <td>9.2341</td>\n",
              "      <td>-0.0138</td>\n",
              "      <td>0.0144</td>\n",
              "      <td>2010-11-01</td>\n",
              "    </tr>\n",
              "    <tr>\n",
              "      <th>3</th>\n",
              "      <td>2010</td>\n",
              "      <td>12</td>\n",
              "      <td>CAPITAL</td>\n",
              "      <td>FONDO A</td>\n",
              "      <td>13.9083</td>\n",
              "      <td>0.179417</td>\n",
              "      <td>14.0204</td>\n",
              "      <td>0.0129</td>\n",
              "      <td>0.0144</td>\n",
              "      <td>2010-12-01</td>\n",
              "    </tr>\n",
              "    <tr>\n",
              "      <th>4</th>\n",
              "      <td>2011</td>\n",
              "      <td>01</td>\n",
              "      <td>CAPITAL</td>\n",
              "      <td>FONDO A</td>\n",
              "      <td>18.6946</td>\n",
              "      <td>0.0130862</td>\n",
              "      <td>18.6404</td>\n",
              "      <td>0.0007</td>\n",
              "      <td>0.0144</td>\n",
              "      <td>2011-01-01</td>\n",
              "    </tr>\n",
              "    <tr>\n",
              "      <th>...</th>\n",
              "      <td>...</td>\n",
              "      <td>...</td>\n",
              "      <td>...</td>\n",
              "      <td>...</td>\n",
              "      <td>...</td>\n",
              "      <td>...</td>\n",
              "      <td>...</td>\n",
              "      <td>...</td>\n",
              "      <td>...</td>\n",
              "      <td>...</td>\n",
              "    </tr>\n",
              "    <tr>\n",
              "      <th>3595</th>\n",
              "      <td>2020</td>\n",
              "      <td>04</td>\n",
              "      <td>PROVIDA</td>\n",
              "      <td>FONDO E</td>\n",
              "      <td>598.516</td>\n",
              "      <td>34.4745</td>\n",
              "      <td>632.923</td>\n",
              "      <td>0.0576</td>\n",
              "      <td>0.0145</td>\n",
              "      <td>2020-04-01</td>\n",
              "    </tr>\n",
              "    <tr>\n",
              "      <th>3596</th>\n",
              "      <td>2020</td>\n",
              "      <td>05</td>\n",
              "      <td>PROVIDA</td>\n",
              "      <td>FONDO E</td>\n",
              "      <td>637.597</td>\n",
              "      <td>27.9267</td>\n",
              "      <td>665.456</td>\n",
              "      <td>0.0438</td>\n",
              "      <td>0.0145</td>\n",
              "      <td>2020-05-01</td>\n",
              "    </tr>\n",
              "    <tr>\n",
              "      <th>3597</th>\n",
              "      <td>2020</td>\n",
              "      <td>06</td>\n",
              "      <td>PROVIDA</td>\n",
              "      <td>FONDO E</td>\n",
              "      <td>670.13</td>\n",
              "      <td>3.75273</td>\n",
              "      <td>673.815</td>\n",
              "      <td>0.0056</td>\n",
              "      <td>0.0145</td>\n",
              "      <td>2020-06-01</td>\n",
              "    </tr>\n",
              "    <tr>\n",
              "      <th>3598</th>\n",
              "      <td>2020</td>\n",
              "      <td>07</td>\n",
              "      <td>PROVIDA</td>\n",
              "      <td>FONDO E</td>\n",
              "      <td>678.489</td>\n",
              "      <td>-3.0532</td>\n",
              "      <td>675.368</td>\n",
              "      <td>-0.0045</td>\n",
              "      <td>0.0145</td>\n",
              "      <td>2020-07-01</td>\n",
              "    </tr>\n",
              "    <tr>\n",
              "      <th>3599</th>\n",
              "      <td>2020</td>\n",
              "      <td>08</td>\n",
              "      <td>PROVIDA</td>\n",
              "      <td>FONDO E</td>\n",
              "      <td>680.043</td>\n",
              "      <td>16.117</td>\n",
              "      <td>696.092</td>\n",
              "      <td>0.0237</td>\n",
              "      <td>0.0145</td>\n",
              "      <td>2020-08-01</td>\n",
              "    </tr>\n",
              "  </tbody>\n",
              "</table>\n",
              "<p>3600 rows × 10 columns</p>\n",
              "</div>"
            ],
            "text/plain": [
              "       Año Periodo      AFP  ... Rentabilidad Mensual Comision       Fecha\n",
              "0     2010      09  CAPITAL  ...               0.0576   0.0144  2010-09-01\n",
              "1     2010      10  CAPITAL  ...               0.0322   0.0144  2010-10-01\n",
              "2     2010      11  CAPITAL  ...              -0.0138   0.0144  2010-11-01\n",
              "3     2010      12  CAPITAL  ...               0.0129   0.0144  2010-12-01\n",
              "4     2011      01  CAPITAL  ...               0.0007   0.0144  2011-01-01\n",
              "...    ...     ...      ...  ...                  ...      ...         ...\n",
              "3595  2020      04  PROVIDA  ...               0.0576   0.0145  2020-04-01\n",
              "3596  2020      05  PROVIDA  ...               0.0438   0.0145  2020-05-01\n",
              "3597  2020      06  PROVIDA  ...               0.0056   0.0145  2020-06-01\n",
              "3598  2020      07  PROVIDA  ...              -0.0045   0.0145  2020-07-01\n",
              "3599  2020      08  PROVIDA  ...               0.0237   0.0145  2020-08-01\n",
              "\n",
              "[3600 rows x 10 columns]"
            ]
          },
          "metadata": {
            "tags": []
          },
          "execution_count": 340
        }
      ]
    },
    {
      "cell_type": "code",
      "metadata": {
        "id": "b3wP6MOc8vgN",
        "outputId": "167c859d-530e-4709-f756-148081ba73a6",
        "colab": {
          "base_uri": "https://localhost:8080/",
          "height": 647
        }
      },
      "source": [
        "result.loc[(result['AFP'] == 'CAPITAL') & (result['Fondo'] == 'FONDO A')].head(20)"
      ],
      "execution_count": 395,
      "outputs": [
        {
          "output_type": "execute_result",
          "data": {
            "text/html": [
              "<div>\n",
              "<style scoped>\n",
              "    .dataframe tbody tr th:only-of-type {\n",
              "        vertical-align: middle;\n",
              "    }\n",
              "\n",
              "    .dataframe tbody tr th {\n",
              "        vertical-align: top;\n",
              "    }\n",
              "\n",
              "    .dataframe thead th {\n",
              "        text-align: right;\n",
              "    }\n",
              "</style>\n",
              "<table border=\"1\" class=\"dataframe\">\n",
              "  <thead>\n",
              "    <tr style=\"text-align: right;\">\n",
              "      <th></th>\n",
              "      <th>Año</th>\n",
              "      <th>Periodo</th>\n",
              "      <th>AFP</th>\n",
              "      <th>Fondo</th>\n",
              "      <th>Monto Inicial</th>\n",
              "      <th>Interes Ganados</th>\n",
              "      <th>Monto Final</th>\n",
              "      <th>Rentabilidad Mensual</th>\n",
              "      <th>Comision</th>\n",
              "      <th>Fecha</th>\n",
              "    </tr>\n",
              "  </thead>\n",
              "  <tbody>\n",
              "    <tr>\n",
              "      <th>0</th>\n",
              "      <td>2010</td>\n",
              "      <td>09</td>\n",
              "      <td>CAPITAL</td>\n",
              "      <td>FONDO A</td>\n",
              "      <td>0</td>\n",
              "      <td>0</td>\n",
              "      <td>0.000000</td>\n",
              "      <td>0.0576</td>\n",
              "      <td>0.0144</td>\n",
              "      <td>2010-09-01</td>\n",
              "    </tr>\n",
              "    <tr>\n",
              "      <th>1</th>\n",
              "      <td>2010</td>\n",
              "      <td>10</td>\n",
              "      <td>CAPITAL</td>\n",
              "      <td>FONDO A</td>\n",
              "      <td>4.67418</td>\n",
              "      <td>0.150509</td>\n",
              "      <td>4.757384</td>\n",
              "      <td>0.0322</td>\n",
              "      <td>0.0144</td>\n",
              "      <td>2010-10-01</td>\n",
              "    </tr>\n",
              "    <tr>\n",
              "      <th>2</th>\n",
              "      <td>2010</td>\n",
              "      <td>11</td>\n",
              "      <td>CAPITAL</td>\n",
              "      <td>FONDO A</td>\n",
              "      <td>9.43157</td>\n",
              "      <td>-0.130156</td>\n",
              "      <td>9.234104</td>\n",
              "      <td>-0.0138</td>\n",
              "      <td>0.0144</td>\n",
              "      <td>2010-11-01</td>\n",
              "    </tr>\n",
              "    <tr>\n",
              "      <th>3</th>\n",
              "      <td>2010</td>\n",
              "      <td>12</td>\n",
              "      <td>CAPITAL</td>\n",
              "      <td>FONDO A</td>\n",
              "      <td>13.9083</td>\n",
              "      <td>0.179417</td>\n",
              "      <td>14.020396</td>\n",
              "      <td>0.0129</td>\n",
              "      <td>0.0144</td>\n",
              "      <td>2010-12-01</td>\n",
              "    </tr>\n",
              "    <tr>\n",
              "      <th>4</th>\n",
              "      <td>2011</td>\n",
              "      <td>01</td>\n",
              "      <td>CAPITAL</td>\n",
              "      <td>FONDO A</td>\n",
              "      <td>18.6946</td>\n",
              "      <td>0.0130862</td>\n",
              "      <td>18.640358</td>\n",
              "      <td>0.0007</td>\n",
              "      <td>0.0144</td>\n",
              "      <td>2011-01-01</td>\n",
              "    </tr>\n",
              "    <tr>\n",
              "      <th>5</th>\n",
              "      <td>2011</td>\n",
              "      <td>02</td>\n",
              "      <td>CAPITAL</td>\n",
              "      <td>FONDO A</td>\n",
              "      <td>23.3145</td>\n",
              "      <td>-0.648144</td>\n",
              "      <td>22.599089</td>\n",
              "      <td>-0.0278</td>\n",
              "      <td>0.0144</td>\n",
              "      <td>2011-02-01</td>\n",
              "    </tr>\n",
              "    <tr>\n",
              "      <th>6</th>\n",
              "      <td>2011</td>\n",
              "      <td>03</td>\n",
              "      <td>CAPITAL</td>\n",
              "      <td>FONDO A</td>\n",
              "      <td>27.2733</td>\n",
              "      <td>1.04184</td>\n",
              "      <td>28.247804</td>\n",
              "      <td>0.0382</td>\n",
              "      <td>0.0144</td>\n",
              "      <td>2011-03-01</td>\n",
              "    </tr>\n",
              "    <tr>\n",
              "      <th>7</th>\n",
              "      <td>2011</td>\n",
              "      <td>04</td>\n",
              "      <td>CAPITAL</td>\n",
              "      <td>FONDO A</td>\n",
              "      <td>32.922</td>\n",
              "      <td>0.151441</td>\n",
              "      <td>33.006120</td>\n",
              "      <td>0.0046</td>\n",
              "      <td>0.0144</td>\n",
              "      <td>2011-04-01</td>\n",
              "    </tr>\n",
              "    <tr>\n",
              "      <th>8</th>\n",
              "      <td>2011</td>\n",
              "      <td>05</td>\n",
              "      <td>CAPITAL</td>\n",
              "      <td>FONDO A</td>\n",
              "      <td>37.6803</td>\n",
              "      <td>-0.474772</td>\n",
              "      <td>37.138224</td>\n",
              "      <td>-0.0126</td>\n",
              "      <td>0.0144</td>\n",
              "      <td>2011-05-01</td>\n",
              "    </tr>\n",
              "    <tr>\n",
              "      <th>9</th>\n",
              "      <td>2011</td>\n",
              "      <td>06</td>\n",
              "      <td>CAPITAL</td>\n",
              "      <td>FONDO A</td>\n",
              "      <td>41.8124</td>\n",
              "      <td>-0.556105</td>\n",
              "      <td>41.188994</td>\n",
              "      <td>-0.0133</td>\n",
              "      <td>0.0144</td>\n",
              "      <td>2011-06-01</td>\n",
              "    </tr>\n",
              "    <tr>\n",
              "      <th>10</th>\n",
              "      <td>2011</td>\n",
              "      <td>07</td>\n",
              "      <td>CAPITAL</td>\n",
              "      <td>FONDO A</td>\n",
              "      <td>45.8632</td>\n",
              "      <td>-1.02275</td>\n",
              "      <td>44.773121</td>\n",
              "      <td>-0.0223</td>\n",
              "      <td>0.0144</td>\n",
              "      <td>2011-07-01</td>\n",
              "    </tr>\n",
              "    <tr>\n",
              "      <th>11</th>\n",
              "      <td>2011</td>\n",
              "      <td>08</td>\n",
              "      <td>CAPITAL</td>\n",
              "      <td>FONDO A</td>\n",
              "      <td>49.4473</td>\n",
              "      <td>-3.20419</td>\n",
              "      <td>46.175811</td>\n",
              "      <td>-0.0648</td>\n",
              "      <td>0.0144</td>\n",
              "      <td>2011-08-01</td>\n",
              "    </tr>\n",
              "    <tr>\n",
              "      <th>12</th>\n",
              "      <td>2011</td>\n",
              "      <td>09</td>\n",
              "      <td>CAPITAL</td>\n",
              "      <td>FONDO A</td>\n",
              "      <td>50.85</td>\n",
              "      <td>-2.2374</td>\n",
              "      <td>48.545287</td>\n",
              "      <td>-0.0440</td>\n",
              "      <td>0.0144</td>\n",
              "      <td>2011-09-01</td>\n",
              "    </tr>\n",
              "    <tr>\n",
              "      <th>13</th>\n",
              "      <td>2011</td>\n",
              "      <td>10</td>\n",
              "      <td>CAPITAL</td>\n",
              "      <td>FONDO A</td>\n",
              "      <td>53.2195</td>\n",
              "      <td>3.13463</td>\n",
              "      <td>56.286789</td>\n",
              "      <td>0.0589</td>\n",
              "      <td>0.0144</td>\n",
              "      <td>2011-10-01</td>\n",
              "    </tr>\n",
              "    <tr>\n",
              "      <th>14</th>\n",
              "      <td>2011</td>\n",
              "      <td>11</td>\n",
              "      <td>CAPITAL</td>\n",
              "      <td>FONDO A</td>\n",
              "      <td>60.961</td>\n",
              "      <td>-2.45063</td>\n",
              "      <td>58.443033</td>\n",
              "      <td>-0.0402</td>\n",
              "      <td>0.0144</td>\n",
              "      <td>2011-11-01</td>\n",
              "    </tr>\n",
              "    <tr>\n",
              "      <th>15</th>\n",
              "      <td>2011</td>\n",
              "      <td>12</td>\n",
              "      <td>CAPITAL</td>\n",
              "      <td>FONDO A</td>\n",
              "      <td>63.1172</td>\n",
              "      <td>0.372392</td>\n",
              "      <td>63.422300</td>\n",
              "      <td>0.0059</td>\n",
              "      <td>0.0144</td>\n",
              "      <td>2011-12-01</td>\n",
              "    </tr>\n",
              "    <tr>\n",
              "      <th>16</th>\n",
              "      <td>2012</td>\n",
              "      <td>01</td>\n",
              "      <td>CAPITAL</td>\n",
              "      <td>FONDO A</td>\n",
              "      <td>68.0965</td>\n",
              "      <td>1.75008</td>\n",
              "      <td>69.779255</td>\n",
              "      <td>0.0257</td>\n",
              "      <td>0.0144</td>\n",
              "      <td>2012-01-01</td>\n",
              "    </tr>\n",
              "    <tr>\n",
              "      <th>17</th>\n",
              "      <td>2012</td>\n",
              "      <td>02</td>\n",
              "      <td>CAPITAL</td>\n",
              "      <td>FONDO A</td>\n",
              "      <td>74.4534</td>\n",
              "      <td>2.79945</td>\n",
              "      <td>77.185580</td>\n",
              "      <td>0.0376</td>\n",
              "      <td>0.0144</td>\n",
              "      <td>2012-02-01</td>\n",
              "    </tr>\n",
              "    <tr>\n",
              "      <th>18</th>\n",
              "      <td>2012</td>\n",
              "      <td>03</td>\n",
              "      <td>CAPITAL</td>\n",
              "      <td>FONDO A</td>\n",
              "      <td>81.8598</td>\n",
              "      <td>0.155534</td>\n",
              "      <td>81.947989</td>\n",
              "      <td>0.0019</td>\n",
              "      <td>0.0144</td>\n",
              "      <td>2012-03-01</td>\n",
              "    </tr>\n",
              "    <tr>\n",
              "      <th>19</th>\n",
              "      <td>2012</td>\n",
              "      <td>04</td>\n",
              "      <td>CAPITAL</td>\n",
              "      <td>FONDO A</td>\n",
              "      <td>86.6222</td>\n",
              "      <td>-1.04813</td>\n",
              "      <td>85.506736</td>\n",
              "      <td>-0.0121</td>\n",
              "      <td>0.0144</td>\n",
              "      <td>2012-04-01</td>\n",
              "    </tr>\n",
              "  </tbody>\n",
              "</table>\n",
              "</div>"
            ],
            "text/plain": [
              "     Año Periodo      AFP  ... Rentabilidad Mensual Comision       Fecha\n",
              "0   2010      09  CAPITAL  ...               0.0576   0.0144  2010-09-01\n",
              "1   2010      10  CAPITAL  ...               0.0322   0.0144  2010-10-01\n",
              "2   2010      11  CAPITAL  ...              -0.0138   0.0144  2010-11-01\n",
              "3   2010      12  CAPITAL  ...               0.0129   0.0144  2010-12-01\n",
              "4   2011      01  CAPITAL  ...               0.0007   0.0144  2011-01-01\n",
              "5   2011      02  CAPITAL  ...              -0.0278   0.0144  2011-02-01\n",
              "6   2011      03  CAPITAL  ...               0.0382   0.0144  2011-03-01\n",
              "7   2011      04  CAPITAL  ...               0.0046   0.0144  2011-04-01\n",
              "8   2011      05  CAPITAL  ...              -0.0126   0.0144  2011-05-01\n",
              "9   2011      06  CAPITAL  ...              -0.0133   0.0144  2011-06-01\n",
              "10  2011      07  CAPITAL  ...              -0.0223   0.0144  2011-07-01\n",
              "11  2011      08  CAPITAL  ...              -0.0648   0.0144  2011-08-01\n",
              "12  2011      09  CAPITAL  ...              -0.0440   0.0144  2011-09-01\n",
              "13  2011      10  CAPITAL  ...               0.0589   0.0144  2011-10-01\n",
              "14  2011      11  CAPITAL  ...              -0.0402   0.0144  2011-11-01\n",
              "15  2011      12  CAPITAL  ...               0.0059   0.0144  2011-12-01\n",
              "16  2012      01  CAPITAL  ...               0.0257   0.0144  2012-01-01\n",
              "17  2012      02  CAPITAL  ...               0.0376   0.0144  2012-02-01\n",
              "18  2012      03  CAPITAL  ...               0.0019   0.0144  2012-03-01\n",
              "19  2012      04  CAPITAL  ...              -0.0121   0.0144  2012-04-01\n",
              "\n",
              "[20 rows x 10 columns]"
            ]
          },
          "metadata": {
            "tags": []
          },
          "execution_count": 395
        }
      ]
    },
    {
      "cell_type": "markdown",
      "metadata": {
        "id": "hxyOMTJds2As"
      },
      "source": [
        "**RESULTADOS FONDO A**\n",
        "\n"
      ]
    },
    {
      "cell_type": "code",
      "metadata": {
        "id": "9Oc5q_48s6Wr",
        "outputId": "4819db32-1eb3-4cf3-9034-68f52a1ad19f",
        "colab": {
          "base_uri": "https://localhost:8080/",
          "height": 245
        }
      },
      "source": [
        "#FONDO A\n",
        "print('Monto Final ahorrado por cada AFP en el Fondo A')\n",
        "result.loc[(result['Fondo'] == 'FONDO A') & (result['Año']== 2020) & (result['Periodo']== '08')][['AFP','Monto Final']].sort_values('Monto Final', ascending = False)"
      ],
      "execution_count": 341,
      "outputs": [
        {
          "output_type": "stream",
          "text": [
            "Monto Final ahorrado por cada AFP en el Fondo A\n"
          ],
          "name": "stdout"
        },
        {
          "output_type": "execute_result",
          "data": {
            "text/html": [
              "<div>\n",
              "<style scoped>\n",
              "    .dataframe tbody tr th:only-of-type {\n",
              "        vertical-align: middle;\n",
              "    }\n",
              "\n",
              "    .dataframe tbody tr th {\n",
              "        vertical-align: top;\n",
              "    }\n",
              "\n",
              "    .dataframe thead th {\n",
              "        text-align: right;\n",
              "    }\n",
              "</style>\n",
              "<table border=\"1\" class=\"dataframe\">\n",
              "  <thead>\n",
              "    <tr style=\"text-align: right;\">\n",
              "      <th></th>\n",
              "      <th>AFP</th>\n",
              "      <th>Monto Final</th>\n",
              "    </tr>\n",
              "  </thead>\n",
              "  <tbody>\n",
              "    <tr>\n",
              "      <th>719</th>\n",
              "      <td>PROVIDA</td>\n",
              "      <td>716.474</td>\n",
              "    </tr>\n",
              "    <tr>\n",
              "      <th>359</th>\n",
              "      <td>HABITAT</td>\n",
              "      <td>713.971</td>\n",
              "    </tr>\n",
              "    <tr>\n",
              "      <th>479</th>\n",
              "      <td>MODELO</td>\n",
              "      <td>709.171</td>\n",
              "    </tr>\n",
              "    <tr>\n",
              "      <th>119</th>\n",
              "      <td>CAPITAL</td>\n",
              "      <td>707.24</td>\n",
              "    </tr>\n",
              "    <tr>\n",
              "      <th>239</th>\n",
              "      <td>CUPRUM</td>\n",
              "      <td>705.386</td>\n",
              "    </tr>\n",
              "    <tr>\n",
              "      <th>599</th>\n",
              "      <td>PLANVITAL</td>\n",
              "      <td>696.031</td>\n",
              "    </tr>\n",
              "  </tbody>\n",
              "</table>\n",
              "</div>"
            ],
            "text/plain": [
              "           AFP Monto Final\n",
              "719    PROVIDA     716.474\n",
              "359    HABITAT     713.971\n",
              "479     MODELO     709.171\n",
              "119    CAPITAL      707.24\n",
              "239     CUPRUM     705.386\n",
              "599  PLANVITAL     696.031"
            ]
          },
          "metadata": {
            "tags": []
          },
          "execution_count": 341
        }
      ]
    },
    {
      "cell_type": "markdown",
      "metadata": {
        "id": "6ztChiD5wGMd"
      },
      "source": [
        "**RESULTADOS FONDO B**\n"
      ]
    },
    {
      "cell_type": "code",
      "metadata": {
        "id": "AS1s7Zr1v_fY",
        "outputId": "56d50b81-3c73-47fb-8aac-449679165456",
        "colab": {
          "base_uri": "https://localhost:8080/",
          "height": 245
        }
      },
      "source": [
        "#FONDO B\n",
        "print('Monto Final ahorrado por cada AFP en el Fondo B')\n",
        "result.loc[(result['Fondo'] == 'FONDO B') & (result['Año']== 2020) & (result['Periodo']== '08')][['AFP','Monto Final']].sort_values('Monto Final', ascending = False)\n"
      ],
      "execution_count": 342,
      "outputs": [
        {
          "output_type": "stream",
          "text": [
            "Monto Final ahorrado por cada AFP en el Fondo B\n"
          ],
          "name": "stdout"
        },
        {
          "output_type": "execute_result",
          "data": {
            "text/html": [
              "<div>\n",
              "<style scoped>\n",
              "    .dataframe tbody tr th:only-of-type {\n",
              "        vertical-align: middle;\n",
              "    }\n",
              "\n",
              "    .dataframe tbody tr th {\n",
              "        vertical-align: top;\n",
              "    }\n",
              "\n",
              "    .dataframe thead th {\n",
              "        text-align: right;\n",
              "    }\n",
              "</style>\n",
              "<table border=\"1\" class=\"dataframe\">\n",
              "  <thead>\n",
              "    <tr style=\"text-align: right;\">\n",
              "      <th></th>\n",
              "      <th>AFP</th>\n",
              "      <th>Monto Final</th>\n",
              "    </tr>\n",
              "  </thead>\n",
              "  <tbody>\n",
              "    <tr>\n",
              "      <th>1079</th>\n",
              "      <td>HABITAT</td>\n",
              "      <td>715.13</td>\n",
              "    </tr>\n",
              "    <tr>\n",
              "      <th>1199</th>\n",
              "      <td>MODELO</td>\n",
              "      <td>708.874</td>\n",
              "    </tr>\n",
              "    <tr>\n",
              "      <th>1439</th>\n",
              "      <td>PROVIDA</td>\n",
              "      <td>705.296</td>\n",
              "    </tr>\n",
              "    <tr>\n",
              "      <th>839</th>\n",
              "      <td>CAPITAL</td>\n",
              "      <td>704.474</td>\n",
              "    </tr>\n",
              "    <tr>\n",
              "      <th>959</th>\n",
              "      <td>CUPRUM</td>\n",
              "      <td>697.182</td>\n",
              "    </tr>\n",
              "    <tr>\n",
              "      <th>1319</th>\n",
              "      <td>PLANVITAL</td>\n",
              "      <td>688.618</td>\n",
              "    </tr>\n",
              "  </tbody>\n",
              "</table>\n",
              "</div>"
            ],
            "text/plain": [
              "            AFP Monto Final\n",
              "1079    HABITAT      715.13\n",
              "1199     MODELO     708.874\n",
              "1439    PROVIDA     705.296\n",
              "839     CAPITAL     704.474\n",
              "959      CUPRUM     697.182\n",
              "1319  PLANVITAL     688.618"
            ]
          },
          "metadata": {
            "tags": []
          },
          "execution_count": 342
        }
      ]
    },
    {
      "cell_type": "markdown",
      "metadata": {
        "id": "oHWtO7SfwPEX"
      },
      "source": [
        "**RESULTADOS FONDO C**\n"
      ]
    },
    {
      "cell_type": "code",
      "metadata": {
        "id": "z2N7Y8a4wQpM",
        "outputId": "fef41caf-35d8-4c82-d9cd-8049726bfac7",
        "colab": {
          "base_uri": "https://localhost:8080/",
          "height": 245
        }
      },
      "source": [
        "#fondo C\n",
        "print('Monto Final ahorrado por cada AFP en el Fondo C')\n",
        "result.loc[(result['Fondo'] == 'FONDO C') & (result['Año']== 2020) & (result['Periodo']== '08')][['AFP','Monto Final']].sort_values('Monto Final', ascending = False)"
      ],
      "execution_count": 343,
      "outputs": [
        {
          "output_type": "stream",
          "text": [
            "Monto Final ahorrado por cada AFP en el Fondo C\n"
          ],
          "name": "stdout"
        },
        {
          "output_type": "execute_result",
          "data": {
            "text/html": [
              "<div>\n",
              "<style scoped>\n",
              "    .dataframe tbody tr th:only-of-type {\n",
              "        vertical-align: middle;\n",
              "    }\n",
              "\n",
              "    .dataframe tbody tr th {\n",
              "        vertical-align: top;\n",
              "    }\n",
              "\n",
              "    .dataframe thead th {\n",
              "        text-align: right;\n",
              "    }\n",
              "</style>\n",
              "<table border=\"1\" class=\"dataframe\">\n",
              "  <thead>\n",
              "    <tr style=\"text-align: right;\">\n",
              "      <th></th>\n",
              "      <th>AFP</th>\n",
              "      <th>Monto Final</th>\n",
              "    </tr>\n",
              "  </thead>\n",
              "  <tbody>\n",
              "    <tr>\n",
              "      <th>1799</th>\n",
              "      <td>HABITAT</td>\n",
              "      <td>737.203</td>\n",
              "    </tr>\n",
              "    <tr>\n",
              "      <th>1559</th>\n",
              "      <td>CAPITAL</td>\n",
              "      <td>725.46</td>\n",
              "    </tr>\n",
              "    <tr>\n",
              "      <th>2159</th>\n",
              "      <td>PROVIDA</td>\n",
              "      <td>719.964</td>\n",
              "    </tr>\n",
              "    <tr>\n",
              "      <th>1919</th>\n",
              "      <td>MODELO</td>\n",
              "      <td>717.974</td>\n",
              "    </tr>\n",
              "    <tr>\n",
              "      <th>1679</th>\n",
              "      <td>CUPRUM</td>\n",
              "      <td>714.756</td>\n",
              "    </tr>\n",
              "    <tr>\n",
              "      <th>2039</th>\n",
              "      <td>PLANVITAL</td>\n",
              "      <td>704.309</td>\n",
              "    </tr>\n",
              "  </tbody>\n",
              "</table>\n",
              "</div>"
            ],
            "text/plain": [
              "            AFP Monto Final\n",
              "1799    HABITAT     737.203\n",
              "1559    CAPITAL      725.46\n",
              "2159    PROVIDA     719.964\n",
              "1919     MODELO     717.974\n",
              "1679     CUPRUM     714.756\n",
              "2039  PLANVITAL     704.309"
            ]
          },
          "metadata": {
            "tags": []
          },
          "execution_count": 343
        }
      ]
    },
    {
      "cell_type": "markdown",
      "metadata": {
        "id": "IGWKrLDwwbcO"
      },
      "source": [
        "**RESULTADOS FONDO D**"
      ]
    },
    {
      "cell_type": "code",
      "metadata": {
        "id": "NtuXl4omwVHx",
        "outputId": "237b2353-35fd-4e56-c0fb-b4021a786024",
        "colab": {
          "base_uri": "https://localhost:8080/",
          "height": 245
        }
      },
      "source": [
        "#Fondo D\n",
        "print('Monto Final ahorrado por cada AFP en el Fondo D')\n",
        "result.loc[(result['Fondo'] == 'FONDO D') & (result['Año']== 2020) & (result['Periodo']== '08')][['AFP','Monto Final']].sort_values('Monto Final', ascending = False)"
      ],
      "execution_count": 344,
      "outputs": [
        {
          "output_type": "stream",
          "text": [
            "Monto Final ahorrado por cada AFP en el Fondo D\n"
          ],
          "name": "stdout"
        },
        {
          "output_type": "execute_result",
          "data": {
            "text/html": [
              "<div>\n",
              "<style scoped>\n",
              "    .dataframe tbody tr th:only-of-type {\n",
              "        vertical-align: middle;\n",
              "    }\n",
              "\n",
              "    .dataframe tbody tr th {\n",
              "        vertical-align: top;\n",
              "    }\n",
              "\n",
              "    .dataframe thead th {\n",
              "        text-align: right;\n",
              "    }\n",
              "</style>\n",
              "<table border=\"1\" class=\"dataframe\">\n",
              "  <thead>\n",
              "    <tr style=\"text-align: right;\">\n",
              "      <th></th>\n",
              "      <th>AFP</th>\n",
              "      <th>Monto Final</th>\n",
              "    </tr>\n",
              "  </thead>\n",
              "  <tbody>\n",
              "    <tr>\n",
              "      <th>2519</th>\n",
              "      <td>HABITAT</td>\n",
              "      <td>725.195</td>\n",
              "    </tr>\n",
              "    <tr>\n",
              "      <th>2639</th>\n",
              "      <td>MODELO</td>\n",
              "      <td>715.555</td>\n",
              "    </tr>\n",
              "    <tr>\n",
              "      <th>2279</th>\n",
              "      <td>CAPITAL</td>\n",
              "      <td>713.817</td>\n",
              "    </tr>\n",
              "    <tr>\n",
              "      <th>2879</th>\n",
              "      <td>PROVIDA</td>\n",
              "      <td>712.492</td>\n",
              "    </tr>\n",
              "    <tr>\n",
              "      <th>2399</th>\n",
              "      <td>CUPRUM</td>\n",
              "      <td>710.083</td>\n",
              "    </tr>\n",
              "    <tr>\n",
              "      <th>2759</th>\n",
              "      <td>PLANVITAL</td>\n",
              "      <td>695.555</td>\n",
              "    </tr>\n",
              "  </tbody>\n",
              "</table>\n",
              "</div>"
            ],
            "text/plain": [
              "            AFP Monto Final\n",
              "2519    HABITAT     725.195\n",
              "2639     MODELO     715.555\n",
              "2279    CAPITAL     713.817\n",
              "2879    PROVIDA     712.492\n",
              "2399     CUPRUM     710.083\n",
              "2759  PLANVITAL     695.555"
            ]
          },
          "metadata": {
            "tags": []
          },
          "execution_count": 344
        }
      ]
    },
    {
      "cell_type": "markdown",
      "metadata": {
        "id": "3wqTl-zFwkqc"
      },
      "source": [
        "**RESULTADOS FONDO E**\n"
      ]
    },
    {
      "cell_type": "code",
      "metadata": {
        "id": "qjhhYTSQwghL",
        "outputId": "f9861423-9b83-4b2a-cf5a-60e82582357a",
        "colab": {
          "base_uri": "https://localhost:8080/",
          "height": 245
        }
      },
      "source": [
        "#Fondo E\n",
        "print('Monto Final ahorrado por cada AFP en el Fondo E')\n",
        "result.loc[(result['Fondo'] == 'FONDO E') & (result['Año']== 2020) & (result['Periodo']== '08')][['AFP','Monto Final']].sort_values('Monto Final', ascending = False)"
      ],
      "execution_count": 345,
      "outputs": [
        {
          "output_type": "stream",
          "text": [
            "Monto Final ahorrado por cada AFP en el Fondo E\n"
          ],
          "name": "stdout"
        },
        {
          "output_type": "execute_result",
          "data": {
            "text/html": [
              "<div>\n",
              "<style scoped>\n",
              "    .dataframe tbody tr th:only-of-type {\n",
              "        vertical-align: middle;\n",
              "    }\n",
              "\n",
              "    .dataframe tbody tr th {\n",
              "        vertical-align: top;\n",
              "    }\n",
              "\n",
              "    .dataframe thead th {\n",
              "        text-align: right;\n",
              "    }\n",
              "</style>\n",
              "<table border=\"1\" class=\"dataframe\">\n",
              "  <thead>\n",
              "    <tr style=\"text-align: right;\">\n",
              "      <th></th>\n",
              "      <th>AFP</th>\n",
              "      <th>Monto Final</th>\n",
              "    </tr>\n",
              "  </thead>\n",
              "  <tbody>\n",
              "    <tr>\n",
              "      <th>3239</th>\n",
              "      <td>HABITAT</td>\n",
              "      <td>707.096</td>\n",
              "    </tr>\n",
              "    <tr>\n",
              "      <th>2999</th>\n",
              "      <td>CAPITAL</td>\n",
              "      <td>700.739</td>\n",
              "    </tr>\n",
              "    <tr>\n",
              "      <th>3599</th>\n",
              "      <td>PROVIDA</td>\n",
              "      <td>696.092</td>\n",
              "    </tr>\n",
              "    <tr>\n",
              "      <th>3119</th>\n",
              "      <td>CUPRUM</td>\n",
              "      <td>691.937</td>\n",
              "    </tr>\n",
              "    <tr>\n",
              "      <th>3359</th>\n",
              "      <td>MODELO</td>\n",
              "      <td>687.956</td>\n",
              "    </tr>\n",
              "    <tr>\n",
              "      <th>3479</th>\n",
              "      <td>PLANVITAL</td>\n",
              "      <td>675.907</td>\n",
              "    </tr>\n",
              "  </tbody>\n",
              "</table>\n",
              "</div>"
            ],
            "text/plain": [
              "            AFP Monto Final\n",
              "3239    HABITAT     707.096\n",
              "2999    CAPITAL     700.739\n",
              "3599    PROVIDA     696.092\n",
              "3119     CUPRUM     691.937\n",
              "3359     MODELO     687.956\n",
              "3479  PLANVITAL     675.907"
            ]
          },
          "metadata": {
            "tags": []
          },
          "execution_count": 345
        }
      ]
    },
    {
      "cell_type": "code",
      "metadata": {
        "id": "U5sz0x3uwtfp",
        "outputId": "e636e9d7-9bb3-4e8b-8e55-76d666247db7",
        "colab": {
          "base_uri": "https://localhost:8080/",
          "height": 743
        }
      },
      "source": [
        "sns.set_color_codes(\"muted\")\n",
        "result['Monto Final'] = result['Monto Final'].apply(lambda x : float(x))\n",
        "g = sns.FacetGrid(result, col=\"Fondo\", height=5, col_wrap=3) #size = (10,10))\n",
        "g.map_dataframe(sns.lineplot, x=\"Fecha\", y=\"Monto Final\", hue = 'AFP')\n",
        "g.set_axis_labels(\"Tiempo\", \"Fondo Acumulado\")\n",
        "g.set(xticks=[date(2011, 1, 1), date(2014, 1, 1), date(2017, 1, 1), date(2020, 1, 1)])\n",
        "g.add_legend()\n",
        "sns.despine(left = False, bottom=False)"
      ],
      "execution_count": 346,
      "outputs": [
        {
          "output_type": "display_data",
          "data": {
            "image/png": "[encoded data removed]",
            "text/plain": [
              "<Figure size 1169.5x720 with 5 Axes>"
            ]
          },
          "metadata": {
            "tags": [],
            "needs_background": "light"
          }
        }
      ]
    }
  ]
}
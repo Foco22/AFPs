{
  "nbformat": 4,
  "nbformat_minor": 0,
  "metadata": {
    "colab": {
      "name": "Untitled2.ipynb",
      "provenance": [],
      "toc_visible": true,
      "authorship_tag": "ABX9TyM4mxfDtxVddsz96UumSdh0",
      "include_colab_link": true
    },
    "kernelspec": {
      "name": "python3",
      "display_name": "Python 3"
    }
  },
  "cells": [
    {
      "cell_type": "markdown",
      "metadata": {
        "id": "view-in-github",
        "colab_type": "text"
      },
      "source": [
        "<a href=\"https://colab.research.google.com/github/Foco22/AFPs/blob/master/AnalisisAFPs.ipynb\" target=\"_parent\"><img src=\"https://colab.research.google.com/assets/colab-badge.svg\" alt=\"Open In Colab\"/></a>"
      ]
    },
    {
      "cell_type": "code",
      "metadata": {
        "id": "OGmpQ3fDskvN",
        "outputId": "0a73cef1-7d0c-42fa-ae2f-4136b2c766b3",
        "colab": {
          "base_uri": "https://localhost:8080/",
          "height": 52
        }
      },
      "source": [
        "!pip install bs4"
      ],
      "execution_count": 1,
      "outputs": [
        {
          "output_type": "stream",
          "text": [
            "Requirement already satisfied: bs4 in /usr/local/lib/python3.6/dist-packages (0.0.1)\n",
            "Requirement already satisfied: beautifulsoup4 in /usr/local/lib/python3.6/dist-packages (from bs4) (4.6.3)\n"
          ],
          "name": "stdout"
        }
      ]
    },
    {
      "cell_type": "code",
      "metadata": {
        "id": "FYTQf0MAssrI",
        "outputId": "9ca5818a-3e93-49ce-acf3-33b401729a38",
        "colab": {
          "base_uri": "https://localhost:8080/",
          "height": 105
        }
      },
      "source": [
        "!pip install requests"
      ],
      "execution_count": 2,
      "outputs": [
        {
          "output_type": "stream",
          "text": [
            "Requirement already satisfied: requests in /usr/local/lib/python3.6/dist-packages (2.23.0)\n",
            "Requirement already satisfied: idna<3,>=2.5 in /usr/local/lib/python3.6/dist-packages (from requests) (2.10)\n",
            "Requirement already satisfied: certifi>=2017.4.17 in /usr/local/lib/python3.6/dist-packages (from requests) (2020.6.20)\n",
            "Requirement already satisfied: urllib3!=1.25.0,!=1.25.1,<1.26,>=1.21.1 in /usr/local/lib/python3.6/dist-packages (from requests) (1.24.3)\n",
            "Requirement already satisfied: chardet<4,>=3.0.2 in /usr/local/lib/python3.6/dist-packages (from requests) (3.0.4)\n"
          ],
          "name": "stdout"
        }
      ]
    },
    {
      "cell_type": "code",
      "metadata": {
        "id": "EQJALIUu1mia",
        "outputId": "5f10d2b9-dc92-47d6-c9ad-626b78ccc54c",
        "colab": {
          "base_uri": "https://localhost:8080/",
          "height": 34
        }
      },
      "source": [
        "!pip install beautifulsoup4"
      ],
      "execution_count": 43,
      "outputs": [
        {
          "output_type": "stream",
          "text": [
            "Requirement already satisfied: beautifulsoup4 in /usr/local/lib/python3.6/dist-packages (4.6.3)\n"
          ],
          "name": "stdout"
        }
      ]
    },
    {
      "cell_type": "code",
      "metadata": {
        "id": "WYsgEoo3s06I",
        "outputId": "e27b035c-a64c-4227-ca5d-f1d093203714",
        "colab": {
          "base_uri": "https://localhost:8080/",
          "height": 1000
        }
      },
      "source": [
        "!pip install selenium\n",
        "!apt-get update \n",
        "!apt install chromium-chromedriver"
      ],
      "execution_count": 7,
      "outputs": [
        {
          "output_type": "stream",
          "text": [
            "Requirement already satisfied: selenium in /usr/local/lib/python3.6/dist-packages (3.141.0)\n",
            "Requirement already satisfied: urllib3 in /usr/local/lib/python3.6/dist-packages (from selenium) (1.24.3)\n",
            "Get:1 https://cloud.r-project.org/bin/linux/ubuntu bionic-cran35/ InRelease [3,626 B]\n",
            "Ign:2 https://developer.download.nvidia.com/compute/cuda/repos/ubuntu1804/x86_64  InRelease\n",
            "Get:3 http://security.ubuntu.com/ubuntu bionic-security InRelease [88.7 kB]\n",
            "Hit:4 http://ppa.launchpad.net/graphics-drivers/ppa/ubuntu bionic InRelease\n",
            "Hit:5 http://archive.ubuntu.com/ubuntu bionic InRelease\n",
            "Ign:6 https://developer.download.nvidia.com/compute/machine-learning/repos/ubuntu1804/x86_64  InRelease\n",
            "Get:7 https://developer.download.nvidia.com/compute/cuda/repos/ubuntu1804/x86_64  Release [697 B]\n",
            "Get:8 https://developer.download.nvidia.com/compute/machine-learning/repos/ubuntu1804/x86_64  Release [564 B]\n",
            "Get:9 https://developer.download.nvidia.com/compute/cuda/repos/ubuntu1804/x86_64  Release.gpg [836 B]\n",
            "Get:10 https://developer.download.nvidia.com/compute/machine-learning/repos/ubuntu1804/x86_64  Release.gpg [833 B]\n",
            "Get:11 http://ppa.launchpad.net/marutter/c2d4u3.5/ubuntu bionic InRelease [15.4 kB]\n",
            "Get:12 http://archive.ubuntu.com/ubuntu bionic-updates InRelease [88.7 kB]\n",
            "Get:13 http://archive.ubuntu.com/ubuntu bionic-backports InRelease [74.6 kB]\n",
            "Ign:14 https://developer.download.nvidia.com/compute/cuda/repos/ubuntu1804/x86_64  Packages\n",
            "Get:14 https://developer.download.nvidia.com/compute/cuda/repos/ubuntu1804/x86_64  Packages [306 kB]\n",
            "Get:15 https://developer.download.nvidia.com/compute/machine-learning/repos/ubuntu1804/x86_64  Packages [47.9 kB]\n",
            "Get:16 http://ppa.launchpad.net/marutter/c2d4u3.5/ubuntu bionic/main Sources [1,879 kB]\n",
            "Get:17 http://security.ubuntu.com/ubuntu bionic-security/universe amd64 Packages [908 kB]\n",
            "Get:18 http://archive.ubuntu.com/ubuntu bionic-updates/restricted amd64 Packages [146 kB]\n",
            "Get:19 http://archive.ubuntu.com/ubuntu bionic-updates/multiverse amd64 Packages [33.9 kB]\n",
            "Get:20 http://archive.ubuntu.com/ubuntu bionic-updates/main amd64 Packages [1,406 kB]\n",
            "Get:21 http://security.ubuntu.com/ubuntu bionic-security/main amd64 Packages [1,115 kB]\n",
            "Get:22 http://security.ubuntu.com/ubuntu bionic-security/restricted amd64 Packages [126 kB]\n",
            "Get:23 http://archive.ubuntu.com/ubuntu bionic-updates/universe amd64 Packages [1,435 kB]\n",
            "Get:24 http://ppa.launchpad.net/marutter/c2d4u3.5/ubuntu bionic/main amd64 Packages [907 kB]\n",
            "Fetched 8,583 kB in 4s (2,272 kB/s)\n",
            "Reading package lists... Done\n",
            "Reading package lists... Done\n",
            "Building dependency tree       \n",
            "Reading state information... Done\n",
            "The following additional packages will be installed:\n",
            "  chromium-browser chromium-browser-l10n chromium-codecs-ffmpeg-extra\n",
            "Suggested packages:\n",
            "  webaccounts-chromium-extension unity-chromium-extension adobe-flashplugin\n",
            "The following NEW packages will be installed:\n",
            "  chromium-browser chromium-browser-l10n chromium-chromedriver\n",
            "  chromium-codecs-ffmpeg-extra\n",
            "0 upgraded, 4 newly installed, 0 to remove and 53 not upgraded.\n",
            "Need to get 79.2 MB of archives.\n",
            "After this operation, 268 MB of additional disk space will be used.\n",
            "Get:1 http://archive.ubuntu.com/ubuntu bionic-updates/universe amd64 chromium-codecs-ffmpeg-extra amd64 85.0.4183.83-0ubuntu0.18.04.2 [1,118 kB]\n",
            "Get:2 http://archive.ubuntu.com/ubuntu bionic-updates/universe amd64 chromium-browser amd64 85.0.4183.83-0ubuntu0.18.04.2 [70.3 MB]\n",
            "Get:3 http://archive.ubuntu.com/ubuntu bionic-updates/universe amd64 chromium-browser-l10n all 85.0.4183.83-0ubuntu0.18.04.2 [3,431 kB]\n",
            "Get:4 http://archive.ubuntu.com/ubuntu bionic-updates/universe amd64 chromium-chromedriver amd64 85.0.4183.83-0ubuntu0.18.04.2 [4,412 kB]\n",
            "Fetched 79.2 MB in 6s (13.0 MB/s)\n",
            "Selecting previously unselected package chromium-codecs-ffmpeg-extra.\n",
            "(Reading database ... 144676 files and directories currently installed.)\n",
            "Preparing to unpack .../chromium-codecs-ffmpeg-extra_85.0.4183.83-0ubuntu0.18.04.2_amd64.deb ...\n",
            "Unpacking chromium-codecs-ffmpeg-extra (85.0.4183.83-0ubuntu0.18.04.2) ...\n",
            "Selecting previously unselected package chromium-browser.\n",
            "Preparing to unpack .../chromium-browser_85.0.4183.83-0ubuntu0.18.04.2_amd64.deb ...\n",
            "Unpacking chromium-browser (85.0.4183.83-0ubuntu0.18.04.2) ...\n",
            "Selecting previously unselected package chromium-browser-l10n.\n",
            "Preparing to unpack .../chromium-browser-l10n_85.0.4183.83-0ubuntu0.18.04.2_all.deb ...\n",
            "Unpacking chromium-browser-l10n (85.0.4183.83-0ubuntu0.18.04.2) ...\n",
            "Selecting previously unselected package chromium-chromedriver.\n",
            "Preparing to unpack .../chromium-chromedriver_85.0.4183.83-0ubuntu0.18.04.2_amd64.deb ...\n",
            "Unpacking chromium-chromedriver (85.0.4183.83-0ubuntu0.18.04.2) ...\n",
            "Setting up chromium-codecs-ffmpeg-extra (85.0.4183.83-0ubuntu0.18.04.2) ...\n",
            "Setting up chromium-browser (85.0.4183.83-0ubuntu0.18.04.2) ...\n",
            "update-alternatives: using /usr/bin/chromium-browser to provide /usr/bin/x-www-browser (x-www-browser) in auto mode\n",
            "update-alternatives: using /usr/bin/chromium-browser to provide /usr/bin/gnome-www-browser (gnome-www-browser) in auto mode\n",
            "Setting up chromium-chromedriver (85.0.4183.83-0ubuntu0.18.04.2) ...\n",
            "Setting up chromium-browser-l10n (85.0.4183.83-0ubuntu0.18.04.2) ...\n",
            "Processing triggers for hicolor-icon-theme (0.17-2) ...\n",
            "Processing triggers for mime-support (3.60ubuntu1) ...\n",
            "Processing triggers for man-db (2.8.3-2ubuntu0.1) ...\n"
          ],
          "name": "stdout"
        }
      ]
    },
    {
      "cell_type": "code",
      "metadata": {
        "id": "agOysu8ysxfb"
      },
      "source": [
        "from bs4 import BeautifulSoup\n",
        "import urllib.request\n",
        "import requests\n",
        "import pandas as pd\n",
        "from selenium import webdriver\n",
        "from selenium.webdriver.support.select import Select\n",
        "from selenium.webdriver.common.by import By\n",
        "from selenium.webdriver.support.ui import WebDriverWait\n",
        "from selenium.webdriver.support import expected_conditions as EC"
      ],
      "execution_count": 59,
      "outputs": []
    },
    {
      "cell_type": "markdown",
      "metadata": {
        "id": "B5q1rpIes-7x"
      },
      "source": [
        "# **Rentabilidad Mensuales de las AFPs**"
      ]
    },
    {
      "cell_type": "code",
      "metadata": {
        "id": "4sIJfAbV30MO",
        "outputId": "18c5ca9c-43d0-4493-a220-88b7da289500",
        "colab": {
          "base_uri": "https://localhost:8080/",
          "height": 141
        }
      },
      "source": [
        "!pip install selenium-wire"
      ],
      "execution_count": 61,
      "outputs": [
        {
          "output_type": "stream",
          "text": [
            "Collecting selenium-wire\n",
            "\u001b[?25l  Downloading https://files.pythonhosted.org/packages/93/1a/04db970c0d7ffcd16f58d3b83e7f2a5cb3d63823fdcb683486f95b1fc5fb/selenium_wire-2.1.1-py3-none-any.whl (833kB)\n",
            "\u001b[K     |████████████████████████████████| 839kB 3.4MB/s \n",
            "\u001b[?25hRequirement already satisfied: selenium>=3.4.0 in /usr/local/lib/python3.6/dist-packages (from selenium-wire) (3.141.0)\n",
            "Requirement already satisfied: urllib3 in /usr/local/lib/python3.6/dist-packages (from selenium>=3.4.0->selenium-wire) (1.24.3)\n",
            "Installing collected packages: selenium-wire\n",
            "Successfully installed selenium-wire-2.1.1\n"
          ],
          "name": "stdout"
        }
      ]
    },
    {
      "cell_type": "code",
      "metadata": {
        "id": "a7MeZZUF6HMl",
        "outputId": "e13512e4-a709-4dc5-9f67-8ba113d9b0e4",
        "colab": {
          "base_uri": "https://localhost:8080/",
          "height": 70
        }
      },
      "source": [
        "! pip3 install  pyvirtualdisplay selenium webdriver_manager  > /dev/null\n",
        "! apt install firefox  xvfb > /dev/null"
      ],
      "execution_count": 73,
      "outputs": [
        {
          "output_type": "stream",
          "text": [
            "\n",
            "WARNING: apt does not have a stable CLI interface. Use with caution in scripts.\n",
            "\n"
          ],
          "name": "stdout"
        }
      ]
    },
    {
      "cell_type": "code",
      "metadata": {
        "id": "vxAP8ld_9Xn3",
        "outputId": "1306078b-6f42-4f6b-e8aa-7742b5aeed7c",
        "colab": {
          "base_uri": "https://localhost:8080/",
          "height": 87
        }
      },
      "source": [
        "import bs4 as bs\n",
        "from selenium import webdriver\n",
        "from selenium.webdriver.common.by import By\n",
        "from selenium.webdriver.support.wait import WebDriverWait\n",
        "from selenium.webdriver.support import expected_conditions as EC\n",
        "\n",
        "\n",
        "chrome_options = webdriver.ChromeOptions()\n",
        "chrome_options.add_argument('--headless')\n",
        "chrome_options.add_argument('--no-sandbox')\n",
        "chrome_options.add_argument('--disable-dev-shm-usage')\n",
        "wd = webdriver.Chrome('chromedriver',chrome_options=chrome_options)\n",
        "driver =webdriver.Chrome('chromedriver',chrome_options=chrome_options)\n",
        "\n",
        "\n",
        "driver.get('https://www.spensiones.cl/apps/rentabilidad/getRentabilidad.php?tiprent=FP&template=0')\n",
        "\n",
        "wait = WebDriverWait(driver, 10)\n",
        "\n",
        "html = driver.execute_script('return document.documentElement.outerHTML')\n",
        "soup = bs.BeautifulSoup(html, 'html.parser')\n"
      ],
      "execution_count": 99,
      "outputs": [
        {
          "output_type": "stream",
          "text": [
            "/usr/local/lib/python3.6/dist-packages/ipykernel_launcher.py:12: DeprecationWarning: use options instead of chrome_options\n",
            "  if sys.path[0] == '':\n",
            "/usr/local/lib/python3.6/dist-packages/ipykernel_launcher.py:13: DeprecationWarning: use options instead of chrome_options\n",
            "  del sys.path[0]\n"
          ],
          "name": "stderr"
        }
      ]
    },
    {
      "cell_type": "code",
      "metadata": {
        "id": "3pWC7da5toHU"
      },
      "source": [
        "def cambio_url(ano,mes):\n",
        "    \n",
        "    s2 = Select(driver.find_element_by_name('aaaa'))\n",
        "    s2.select_by_value(ano)\n",
        "    s2 = Select(driver.find_element_by_name('mm'))\n",
        "    s2.select_by_value(mes)\n",
        "    s3 = driver.find_element_by_name('btn')\n",
        "    s3.click()\n",
        "\n",
        "    #soup = BeautifulSoup(driver.page_source)\n",
        "    #soup = bs4.BeautifulSoup(web_page_text, \"lxml\")\n",
        "    \n",
        "    html = driver.execute_script('return document.documentElement.outerHTML')\n",
        "    soup = bs.BeautifulSoup(html, 'html.parser')\n",
        "    #soup = bs(driver.content)\n",
        "\n",
        "    tabla = soup.find_all('td',{'align':'right'})\n",
        "    \n",
        "    return tabla"
      ],
      "execution_count": 100,
      "outputs": []
    },
    {
      "cell_type": "code",
      "metadata": {
        "id": "rYVpUM_ztzBK"
      },
      "source": [
        "df = pd.DataFrame(columns =['Año','Periodo','AFP','Fondo','Rentabilidad Mensual'])\n",
        "FONDOS = ['FONDO A', 'FONDO B', 'FONDO C', 'FONDO D', 'FONDO E']\n",
        "AFPS = ['CAPITAL', 'CUPRUM', 'HABITAT', 'MODELO', 'PLANVITAL', 'PROVIDA','UNO','SISTEMA']\n",
        "\n",
        "def datos_2019_2020(df):\n",
        "\n",
        "    \n",
        "    años_lista = ['2019','2019','2019','2020','2020','2020','2020','2020','2020','2020','2020']\n",
        "    mes_lista =  ['10','11','12','01','02','03','04','05','06','07','08']\n",
        "    \n",
        "    for a, b in zip(años_lista,mes_lista):\n",
        "        \n",
        "        gdp_table = cambio_url(str(a),str(b))\n",
        "        valores = []\n",
        "        for idx, val in enumerate(gdp_table):\n",
        "                val = str(val)\n",
        "                start = '\"right\">'\n",
        "                end = '</td>'\n",
        "                val = val[val.find(start)+len(start):val.rfind(end)]\n",
        "                numero = ''\n",
        "                for i in list(val):\n",
        "                    if i not in  (',','%','-'):\n",
        "                        numero = numero + i\n",
        "                if numero != '\\xa0':\n",
        "                    if val[0] != '-':\n",
        "                        numero = int(numero)/100\n",
        "                    else:\n",
        "                        numero = int(numero)/100*-1\n",
        "                else:\n",
        "                        numero = 0 \n",
        "     \n",
        "                fondo_c = range(64,105)\n",
        "                fondo_e = range(136,176)\n",
        "                #print(idx,val)\n",
        "                if idx in fondo_c:\n",
        "                    if idx in (64, 69, 74, 79,84, 89, 94, 99,104):\n",
        "                        valores.append(numero)\n",
        "                elif idx in fondo_e:\n",
        "                    if idx in (136,141, 146, 151, 156, 161, 166, 171):\n",
        "                        valores.append(numero)\n",
        "                elif idx % 4 == 0:\n",
        "                        valores.append(numero)\n",
        "        contador = 0\n",
        "        for i in FONDOS:\n",
        "            for j in AFPS:\n",
        "                new_row = {'Año': a, 'Periodo':b, 'AFP':j, 'Fondo':i, 'Rentabilidad Mensual':valores[contador]}\n",
        "                df = df.append(new_row, ignore_index=True)\n",
        "                contador = 1 + contador\n",
        "    return df\n",
        "datos_2019_2020 = datos_2019_2020(df)"
      ],
      "execution_count": 104,
      "outputs": []
    },
    {
      "cell_type": "code",
      "metadata": {
        "id": "8V7cbaZHw4L2",
        "outputId": "b12c4993-2940-46d0-e243-75278327792a",
        "colab": {
          "base_uri": "https://localhost:8080/",
          "height": 197
        }
      },
      "source": [
        "datos_2019_2020.head()"
      ],
      "execution_count": 106,
      "outputs": [
        {
          "output_type": "execute_result",
          "data": {
            "text/html": [
              "<div>\n",
              "<style scoped>\n",
              "    .dataframe tbody tr th:only-of-type {\n",
              "        vertical-align: middle;\n",
              "    }\n",
              "\n",
              "    .dataframe tbody tr th {\n",
              "        vertical-align: top;\n",
              "    }\n",
              "\n",
              "    .dataframe thead th {\n",
              "        text-align: right;\n",
              "    }\n",
              "</style>\n",
              "<table border=\"1\" class=\"dataframe\">\n",
              "  <thead>\n",
              "    <tr style=\"text-align: right;\">\n",
              "      <th></th>\n",
              "      <th>Año</th>\n",
              "      <th>Periodo</th>\n",
              "      <th>AFP</th>\n",
              "      <th>Fondo</th>\n",
              "      <th>Rentabilidad Mensual</th>\n",
              "    </tr>\n",
              "  </thead>\n",
              "  <tbody>\n",
              "    <tr>\n",
              "      <th>0</th>\n",
              "      <td>2019</td>\n",
              "      <td>10</td>\n",
              "      <td>CAPITAL</td>\n",
              "      <td>FONDO A</td>\n",
              "      <td>1.30</td>\n",
              "    </tr>\n",
              "    <tr>\n",
              "      <th>1</th>\n",
              "      <td>2019</td>\n",
              "      <td>10</td>\n",
              "      <td>CUPRUM</td>\n",
              "      <td>FONDO A</td>\n",
              "      <td>1.32</td>\n",
              "    </tr>\n",
              "    <tr>\n",
              "      <th>2</th>\n",
              "      <td>2019</td>\n",
              "      <td>10</td>\n",
              "      <td>HABITAT</td>\n",
              "      <td>FONDO A</td>\n",
              "      <td>1.51</td>\n",
              "    </tr>\n",
              "    <tr>\n",
              "      <th>3</th>\n",
              "      <td>2019</td>\n",
              "      <td>10</td>\n",
              "      <td>MODELO</td>\n",
              "      <td>FONDO A</td>\n",
              "      <td>1.44</td>\n",
              "    </tr>\n",
              "    <tr>\n",
              "      <th>4</th>\n",
              "      <td>2019</td>\n",
              "      <td>10</td>\n",
              "      <td>PLANVITAL</td>\n",
              "      <td>FONDO A</td>\n",
              "      <td>1.34</td>\n",
              "    </tr>\n",
              "  </tbody>\n",
              "</table>\n",
              "</div>"
            ],
            "text/plain": [
              "    Año Periodo        AFP    Fondo  Rentabilidad Mensual\n",
              "0  2019      10    CAPITAL  FONDO A                  1.30\n",
              "1  2019      10     CUPRUM  FONDO A                  1.32\n",
              "2  2019      10    HABITAT  FONDO A                  1.51\n",
              "3  2019      10     MODELO  FONDO A                  1.44\n",
              "4  2019      10  PLANVITAL  FONDO A                  1.34"
            ]
          },
          "metadata": {
            "tags": []
          },
          "execution_count": 106
        }
      ]
    }
  ]
}